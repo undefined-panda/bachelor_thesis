{
 "cells": [
  {
   "cell_type": "markdown",
   "metadata": {},
   "source": [
    "# Test results on Kirsch Filters\n",
    "This file contains the results of applying the Kirsch Filters as custom filters for training on pulsar data.\n",
    "\n",
    "To see what applying the filter on an image looks like please go to `visualization/filter_visualization.ipynb`"
   ]
  },
  {
   "cell_type": "code",
   "execution_count": 1,
   "metadata": {},
   "outputs": [],
   "source": [
    "import sys\n",
    "import os\n",
    "\n",
    "# Annahme: Das Skript wird im results-Ordner ausgeführt\n",
    "current_dir = os.getcwd()\n",
    "\n",
    "# Pfad zum src-Ordner zum Python-Pfad hinzufügen\n",
    "src_path = os.path.abspath(os.path.join(current_dir, '..', 'src'))\n",
    "sys.path.append(src_path)\n",
    "\n",
    "# Jetzt kannst du die Module direkt aus dem src-Ordner importieren\n",
    "import numpy as np\n",
    "from filter_testing import test_1, test_2\n",
    "from custom_filters import *"
   ]
  },
  {
   "cell_type": "markdown",
   "metadata": {},
   "source": [
    "### Pulsar and Non-Pulsar Dataset"
   ]
  },
  {
   "cell_type": "code",
   "execution_count": 2,
   "metadata": {},
   "outputs": [],
   "source": [
    "dataset = np.load(\"../data/32x32_ml_ppa_data_binary.npz\")\n",
    "labels = dataset[\"labels\"]\n",
    "file = dataset.files[2]\n",
    "data = dataset[file]\n",
    "noise = int(file.split(\"_\")[1])\n",
    "\n",
    "bs = 16\n",
    "lr = 0.001"
   ]
  },
  {
   "cell_type": "code",
   "execution_count": 3,
   "metadata": {},
   "outputs": [],
   "source": [
    "kirsch_n = kirsch_filter(\"N\")\n",
    "kirsch_ne = kirsch_filter(\"NE\")\n",
    "kirsch_e = kirsch_filter(\"E\")\n",
    "kirsch_se = kirsch_filter(\"SE\")\n",
    "kirsch_s = kirsch_filter(\"S\")\n",
    "kirsch_sw = kirsch_filter(\"SW\")\n",
    "kirsch_w = kirsch_filter(\"W\")\n",
    "kirsch_nw = kirsch_filter(\"NW\")"
   ]
  },
  {
   "cell_type": "markdown",
   "metadata": {},
   "source": [
    "#### Filters Alone"
   ]
  },
  {
   "cell_type": "code",
   "execution_count": 9,
   "metadata": {},
   "outputs": [
    {
     "name": "stderr",
     "output_type": "stream",
     "text": [
      "Train model: 100%|██████████| 50/50 [00:18<00:00,  2.68it/s]\n",
      "Train model: 100%|██████████| 50/50 [00:19<00:00,  2.54it/s]\n"
     ]
    },
    {
     "name": "stdout",
     "output_type": "stream",
     "text": [
      "Accuracy default: 96.5%\n",
      "Accuracy custom: 91.5%\n"
     ]
    },
    {
     "name": "stderr",
     "output_type": "stream",
     "text": [
      "Train model: 100%|██████████| 50/50 [00:16<00:00,  2.98it/s]\n",
      "Train model: 100%|██████████| 50/50 [00:17<00:00,  2.80it/s]\n"
     ]
    },
    {
     "name": "stdout",
     "output_type": "stream",
     "text": [
      "Accuracy default: 96.0%\n",
      "Accuracy custom: 89.75%\n"
     ]
    },
    {
     "name": "stderr",
     "output_type": "stream",
     "text": [
      "Train model: 100%|██████████| 50/50 [00:24<00:00,  2.05it/s]\n",
      "Train model: 100%|██████████| 50/50 [00:28<00:00,  1.76it/s]\n"
     ]
    },
    {
     "name": "stdout",
     "output_type": "stream",
     "text": [
      "Accuracy default: 97.25%\n",
      "Accuracy custom: 90.25%\n"
     ]
    },
    {
     "name": "stderr",
     "output_type": "stream",
     "text": [
      "Train model: 100%|██████████| 50/50 [00:27<00:00,  1.83it/s]\n",
      "Train model: 100%|██████████| 50/50 [00:28<00:00,  1.78it/s]\n"
     ]
    },
    {
     "name": "stdout",
     "output_type": "stream",
     "text": [
      "Accuracy default: 98.0%\n",
      "Accuracy custom: 88.25%\n"
     ]
    },
    {
     "name": "stderr",
     "output_type": "stream",
     "text": [
      "Train model: 100%|██████████| 50/50 [00:27<00:00,  1.83it/s]\n",
      "Train model: 100%|██████████| 50/50 [00:28<00:00,  1.74it/s]\n"
     ]
    },
    {
     "name": "stdout",
     "output_type": "stream",
     "text": [
      "Accuracy default: 96.5%\n",
      "Accuracy custom: 86.5%\n"
     ]
    },
    {
     "name": "stderr",
     "output_type": "stream",
     "text": [
      "Train model: 100%|██████████| 50/50 [00:27<00:00,  1.85it/s]\n",
      "Train model: 100%|██████████| 50/50 [00:28<00:00,  1.78it/s]\n"
     ]
    },
    {
     "name": "stdout",
     "output_type": "stream",
     "text": [
      "Accuracy default: 98.25%\n",
      "Accuracy custom: 89.0%\n"
     ]
    },
    {
     "name": "stderr",
     "output_type": "stream",
     "text": [
      "Train model: 100%|██████████| 50/50 [00:26<00:00,  1.89it/s]\n",
      "Train model: 100%|██████████| 50/50 [00:28<00:00,  1.78it/s]\n"
     ]
    },
    {
     "name": "stdout",
     "output_type": "stream",
     "text": [
      "Accuracy default: 97.75%\n",
      "Accuracy custom: 88.5%\n"
     ]
    },
    {
     "name": "stderr",
     "output_type": "stream",
     "text": [
      "Train model: 100%|██████████| 50/50 [00:26<00:00,  1.88it/s]\n",
      "Train model: 100%|██████████| 50/50 [00:27<00:00,  1.81it/s]\n"
     ]
    },
    {
     "name": "stdout",
     "output_type": "stream",
     "text": [
      "Accuracy default: 97.25%\n",
      "Accuracy custom: 90.5%\n"
     ]
    },
    {
     "name": "stderr",
     "output_type": "stream",
     "text": [
      "Train model: 100%|██████████| 50/50 [00:28<00:00,  1.77it/s]\n",
      "Train model: 100%|██████████| 50/50 [00:28<00:00,  1.78it/s]\n"
     ]
    },
    {
     "name": "stdout",
     "output_type": "stream",
     "text": [
      "Accuracy default: 95.5%\n",
      "Accuracy custom: 88.25%\n"
     ]
    },
    {
     "name": "stderr",
     "output_type": "stream",
     "text": [
      "Train model: 100%|██████████| 50/50 [00:27<00:00,  1.85it/s]\n",
      "Train model: 100%|██████████| 50/50 [00:28<00:00,  1.78it/s]"
     ]
    },
    {
     "name": "stdout",
     "output_type": "stream",
     "text": [
      "Accuracy default: 97.5%\n",
      "Accuracy custom: 87.5%\n",
      "Avg Default Acc after 10 runs: 0.9705\n",
      "Avg Custom Acc after 10 runs: 0.89\n"
     ]
    },
    {
     "name": "stderr",
     "output_type": "stream",
     "text": [
      "\n"
     ]
    }
   ],
   "source": [
    "epochs = 50\n",
    "d_acc_hist = []\n",
    "c_acc_hist = []\n",
    "\n",
    "for i in range(10):\n",
    "    d_acc, c_acc = test_1(data, labels, noise, bs, epochs, lr, [kirsch_n], title=\"Kirsch\", return_acc=True, plot=False)\n",
    "    d_acc_hist.append(d_acc)\n",
    "    c_acc_hist.append(c_acc)\n",
    "\n",
    "print(f\"Avg Default Acc after 10 runs: {np.sum(d_acc_hist)/10}\")\n",
    "print(f\"Avg Custom Acc after 10 runs: {np.sum(c_acc_hist)/10}\")"
   ]
  },
  {
   "cell_type": "code",
   "execution_count": 10,
   "metadata": {},
   "outputs": [
    {
     "name": "stderr",
     "output_type": "stream",
     "text": [
      "Train model: 100%|██████████| 50/50 [00:26<00:00,  1.86it/s]\n",
      "Train model: 100%|██████████| 50/50 [00:28<00:00,  1.77it/s]\n"
     ]
    },
    {
     "name": "stdout",
     "output_type": "stream",
     "text": [
      "Accuracy default: 96.0%\n",
      "Accuracy custom: 94.0%\n"
     ]
    },
    {
     "name": "stderr",
     "output_type": "stream",
     "text": [
      "Train model: 100%|██████████| 50/50 [00:28<00:00,  1.75it/s]\n",
      "Train model: 100%|██████████| 50/50 [00:29<00:00,  1.68it/s]\n"
     ]
    },
    {
     "name": "stdout",
     "output_type": "stream",
     "text": [
      "Accuracy default: 97.75%\n",
      "Accuracy custom: 94.5%\n"
     ]
    },
    {
     "name": "stderr",
     "output_type": "stream",
     "text": [
      "Train model: 100%|██████████| 50/50 [00:26<00:00,  1.86it/s]\n",
      "Train model: 100%|██████████| 50/50 [00:27<00:00,  1.79it/s]\n"
     ]
    },
    {
     "name": "stdout",
     "output_type": "stream",
     "text": [
      "Accuracy default: 95.5%\n",
      "Accuracy custom: 92.0%\n"
     ]
    },
    {
     "name": "stderr",
     "output_type": "stream",
     "text": [
      "Train model: 100%|██████████| 50/50 [00:26<00:00,  1.86it/s]\n",
      "Train model: 100%|██████████| 50/50 [00:27<00:00,  1.80it/s]\n"
     ]
    },
    {
     "name": "stdout",
     "output_type": "stream",
     "text": [
      "Accuracy default: 97.75%\n",
      "Accuracy custom: 93.5%\n"
     ]
    },
    {
     "name": "stderr",
     "output_type": "stream",
     "text": [
      "Train model: 100%|██████████| 50/50 [00:26<00:00,  1.89it/s]\n",
      "Train model: 100%|██████████| 50/50 [00:27<00:00,  1.79it/s]\n"
     ]
    },
    {
     "name": "stdout",
     "output_type": "stream",
     "text": [
      "Accuracy default: 99.5%\n",
      "Accuracy custom: 93.25%\n"
     ]
    },
    {
     "name": "stderr",
     "output_type": "stream",
     "text": [
      "Train model: 100%|██████████| 50/50 [00:26<00:00,  1.88it/s]\n",
      "Train model: 100%|██████████| 50/50 [00:27<00:00,  1.80it/s]\n"
     ]
    },
    {
     "name": "stdout",
     "output_type": "stream",
     "text": [
      "Accuracy default: 99.25%\n",
      "Accuracy custom: 90.25%\n"
     ]
    },
    {
     "name": "stderr",
     "output_type": "stream",
     "text": [
      "Train model: 100%|██████████| 50/50 [00:26<00:00,  1.87it/s]\n",
      "Train model: 100%|██████████| 50/50 [00:28<00:00,  1.78it/s]\n"
     ]
    },
    {
     "name": "stdout",
     "output_type": "stream",
     "text": [
      "Accuracy default: 98.25%\n",
      "Accuracy custom: 92.0%\n"
     ]
    },
    {
     "name": "stderr",
     "output_type": "stream",
     "text": [
      "Train model: 100%|██████████| 50/50 [00:26<00:00,  1.88it/s]\n",
      "Train model: 100%|██████████| 50/50 [00:28<00:00,  1.76it/s]\n"
     ]
    },
    {
     "name": "stdout",
     "output_type": "stream",
     "text": [
      "Accuracy default: 96.0%\n",
      "Accuracy custom: 93.0%\n"
     ]
    },
    {
     "name": "stderr",
     "output_type": "stream",
     "text": [
      "Train model: 100%|██████████| 50/50 [00:27<00:00,  1.81it/s]\n",
      "Train model: 100%|██████████| 50/50 [00:28<00:00,  1.75it/s]\n"
     ]
    },
    {
     "name": "stdout",
     "output_type": "stream",
     "text": [
      "Accuracy default: 97.75%\n",
      "Accuracy custom: 92.0%\n"
     ]
    },
    {
     "name": "stderr",
     "output_type": "stream",
     "text": [
      "Train model: 100%|██████████| 50/50 [00:27<00:00,  1.81it/s]\n",
      "Train model: 100%|██████████| 50/50 [00:28<00:00,  1.74it/s]"
     ]
    },
    {
     "name": "stdout",
     "output_type": "stream",
     "text": [
      "Accuracy default: 98.0%\n",
      "Accuracy custom: 92.75%\n",
      "Avg Default Acc after 10 runs: 0.97575\n",
      "Avg Custom Acc after 10 runs: 0.9272500000000001\n"
     ]
    },
    {
     "name": "stderr",
     "output_type": "stream",
     "text": [
      "\n"
     ]
    }
   ],
   "source": [
    "epochs = 50\n",
    "d_acc_hist = []\n",
    "c_acc_hist = []\n",
    "\n",
    "for i in range(10):\n",
    "    d_acc, c_acc = test_1(data, labels, noise, bs, epochs, lr, [kirsch_ne], title=\"Kirsch\", return_acc=True, plot=False)\n",
    "    d_acc_hist.append(d_acc)\n",
    "    c_acc_hist.append(c_acc)\n",
    "\n",
    "print(f\"Avg Default Acc after 10 runs: {np.sum(d_acc_hist)/10}\")\n",
    "print(f\"Avg Custom Acc after 10 runs: {np.sum(c_acc_hist)/10}\")"
   ]
  },
  {
   "cell_type": "code",
   "execution_count": 11,
   "metadata": {},
   "outputs": [
    {
     "name": "stderr",
     "output_type": "stream",
     "text": [
      "Train model: 100%|██████████| 50/50 [00:28<00:00,  1.78it/s]\n",
      "Train model: 100%|██████████| 50/50 [00:28<00:00,  1.75it/s]\n"
     ]
    },
    {
     "name": "stdout",
     "output_type": "stream",
     "text": [
      "Accuracy default: 97.0%\n",
      "Accuracy custom: 96.5%\n"
     ]
    },
    {
     "name": "stderr",
     "output_type": "stream",
     "text": [
      "Train model: 100%|██████████| 50/50 [00:27<00:00,  1.80it/s]\n",
      "Train model: 100%|██████████| 50/50 [00:29<00:00,  1.67it/s]\n"
     ]
    },
    {
     "name": "stdout",
     "output_type": "stream",
     "text": [
      "Accuracy default: 94.0%\n",
      "Accuracy custom: 97.5%\n"
     ]
    },
    {
     "name": "stderr",
     "output_type": "stream",
     "text": [
      "Train model: 100%|██████████| 50/50 [00:30<00:00,  1.63it/s]\n",
      "Train model: 100%|██████████| 50/50 [00:29<00:00,  1.71it/s]\n"
     ]
    },
    {
     "name": "stdout",
     "output_type": "stream",
     "text": [
      "Accuracy default: 98.0%\n",
      "Accuracy custom: 97.5%\n"
     ]
    },
    {
     "name": "stderr",
     "output_type": "stream",
     "text": [
      "Train model: 100%|██████████| 50/50 [00:28<00:00,  1.77it/s]\n",
      "Train model: 100%|██████████| 50/50 [00:30<00:00,  1.64it/s]\n"
     ]
    },
    {
     "name": "stdout",
     "output_type": "stream",
     "text": [
      "Accuracy default: 98.25%\n",
      "Accuracy custom: 97.0%\n"
     ]
    },
    {
     "name": "stderr",
     "output_type": "stream",
     "text": [
      "Train model: 100%|██████████| 50/50 [00:30<00:00,  1.63it/s]\n",
      "Train model: 100%|██████████| 50/50 [00:28<00:00,  1.73it/s]\n"
     ]
    },
    {
     "name": "stdout",
     "output_type": "stream",
     "text": [
      "Accuracy default: 97.75%\n",
      "Accuracy custom: 98.25%\n"
     ]
    },
    {
     "name": "stderr",
     "output_type": "stream",
     "text": [
      "Train model: 100%|██████████| 50/50 [00:27<00:00,  1.80it/s]\n",
      "Train model: 100%|██████████| 50/50 [00:28<00:00,  1.73it/s]\n"
     ]
    },
    {
     "name": "stdout",
     "output_type": "stream",
     "text": [
      "Accuracy default: 97.25%\n",
      "Accuracy custom: 96.5%\n"
     ]
    },
    {
     "name": "stderr",
     "output_type": "stream",
     "text": [
      "Train model: 100%|██████████| 50/50 [00:27<00:00,  1.79it/s]\n",
      "Train model: 100%|██████████| 50/50 [00:29<00:00,  1.70it/s]\n"
     ]
    },
    {
     "name": "stdout",
     "output_type": "stream",
     "text": [
      "Accuracy default: 97.5%\n",
      "Accuracy custom: 97.75%\n"
     ]
    },
    {
     "name": "stderr",
     "output_type": "stream",
     "text": [
      "Train model: 100%|██████████| 50/50 [00:27<00:00,  1.80it/s]\n",
      "Train model: 100%|██████████| 50/50 [00:28<00:00,  1.73it/s]\n"
     ]
    },
    {
     "name": "stdout",
     "output_type": "stream",
     "text": [
      "Accuracy default: 95.75%\n",
      "Accuracy custom: 98.0%\n"
     ]
    },
    {
     "name": "stderr",
     "output_type": "stream",
     "text": [
      "Train model: 100%|██████████| 50/50 [00:27<00:00,  1.80it/s]\n",
      "Train model: 100%|██████████| 50/50 [00:29<00:00,  1.72it/s]\n"
     ]
    },
    {
     "name": "stdout",
     "output_type": "stream",
     "text": [
      "Accuracy default: 97.75%\n",
      "Accuracy custom: 97.25%\n"
     ]
    },
    {
     "name": "stderr",
     "output_type": "stream",
     "text": [
      "Train model: 100%|██████████| 50/50 [00:27<00:00,  1.79it/s]\n",
      "Train model: 100%|██████████| 50/50 [00:29<00:00,  1.72it/s]"
     ]
    },
    {
     "name": "stdout",
     "output_type": "stream",
     "text": [
      "Accuracy default: 97.75%\n",
      "Accuracy custom: 98.0%\n",
      "Avg Default Acc after 10 runs: 0.9710000000000001\n",
      "Avg Custom Acc after 10 runs: 0.97425\n"
     ]
    },
    {
     "name": "stderr",
     "output_type": "stream",
     "text": [
      "\n"
     ]
    }
   ],
   "source": [
    "epochs = 50\n",
    "d_acc_hist = []\n",
    "c_acc_hist = []\n",
    "\n",
    "for i in range(10):\n",
    "    d_acc, c_acc = test_1(data, labels, noise, bs, epochs, lr, [kirsch_e], title=\"Kirsch\", return_acc=True, plot=False)\n",
    "    d_acc_hist.append(d_acc)\n",
    "    c_acc_hist.append(c_acc)\n",
    "\n",
    "print(f\"Avg Default Acc after 10 runs: {np.sum(d_acc_hist)/10}\")\n",
    "print(f\"Avg Custom Acc after 10 runs: {np.sum(c_acc_hist)/10}\")"
   ]
  },
  {
   "cell_type": "code",
   "execution_count": 12,
   "metadata": {},
   "outputs": [
    {
     "name": "stderr",
     "output_type": "stream",
     "text": [
      "Train model: 100%|██████████| 50/50 [00:27<00:00,  1.79it/s]\n",
      "Train model: 100%|██████████| 50/50 [00:29<00:00,  1.72it/s]\n"
     ]
    },
    {
     "name": "stdout",
     "output_type": "stream",
     "text": [
      "Accuracy default: 97.25%\n",
      "Accuracy custom: 95.5%\n"
     ]
    },
    {
     "name": "stderr",
     "output_type": "stream",
     "text": [
      "Train model: 100%|██████████| 50/50 [00:28<00:00,  1.78it/s]\n",
      "Train model: 100%|██████████| 50/50 [00:31<00:00,  1.57it/s]\n"
     ]
    },
    {
     "name": "stdout",
     "output_type": "stream",
     "text": [
      "Accuracy default: 97.75%\n",
      "Accuracy custom: 96.5%\n"
     ]
    },
    {
     "name": "stderr",
     "output_type": "stream",
     "text": [
      "Train model: 100%|██████████| 50/50 [00:28<00:00,  1.76it/s]\n",
      "Train model: 100%|██████████| 50/50 [00:25<00:00,  1.96it/s]\n"
     ]
    },
    {
     "name": "stdout",
     "output_type": "stream",
     "text": [
      "Accuracy default: 98.5%\n",
      "Accuracy custom: 95.75%\n"
     ]
    },
    {
     "name": "stderr",
     "output_type": "stream",
     "text": [
      "Train model: 100%|██████████| 50/50 [00:17<00:00,  2.78it/s]\n",
      "Train model: 100%|██████████| 50/50 [00:18<00:00,  2.66it/s]\n"
     ]
    },
    {
     "name": "stdout",
     "output_type": "stream",
     "text": [
      "Accuracy default: 98.25%\n",
      "Accuracy custom: 96.0%\n"
     ]
    },
    {
     "name": "stderr",
     "output_type": "stream",
     "text": [
      "Train model: 100%|██████████| 50/50 [00:18<00:00,  2.73it/s]\n",
      "Train model: 100%|██████████| 50/50 [00:18<00:00,  2.66it/s]\n"
     ]
    },
    {
     "name": "stdout",
     "output_type": "stream",
     "text": [
      "Accuracy default: 98.25%\n",
      "Accuracy custom: 96.25%\n"
     ]
    },
    {
     "name": "stderr",
     "output_type": "stream",
     "text": [
      "Train model: 100%|██████████| 50/50 [00:17<00:00,  2.79it/s]\n",
      "Train model: 100%|██████████| 50/50 [00:18<00:00,  2.68it/s]\n"
     ]
    },
    {
     "name": "stdout",
     "output_type": "stream",
     "text": [
      "Accuracy default: 98.5%\n",
      "Accuracy custom: 96.25%\n"
     ]
    },
    {
     "name": "stderr",
     "output_type": "stream",
     "text": [
      "Train model: 100%|██████████| 50/50 [00:20<00:00,  2.43it/s]\n",
      "Train model: 100%|██████████| 50/50 [00:19<00:00,  2.52it/s]\n"
     ]
    },
    {
     "name": "stdout",
     "output_type": "stream",
     "text": [
      "Accuracy default: 99.0%\n",
      "Accuracy custom: 98.25%\n"
     ]
    },
    {
     "name": "stderr",
     "output_type": "stream",
     "text": [
      "Train model: 100%|██████████| 50/50 [00:19<00:00,  2.52it/s]\n",
      "Train model: 100%|██████████| 50/50 [00:18<00:00,  2.66it/s]\n"
     ]
    },
    {
     "name": "stdout",
     "output_type": "stream",
     "text": [
      "Accuracy default: 98.5%\n",
      "Accuracy custom: 95.25%\n"
     ]
    },
    {
     "name": "stderr",
     "output_type": "stream",
     "text": [
      "Train model: 100%|██████████| 50/50 [00:18<00:00,  2.77it/s]\n",
      "Train model: 100%|██████████| 50/50 [00:18<00:00,  2.74it/s]\n"
     ]
    },
    {
     "name": "stdout",
     "output_type": "stream",
     "text": [
      "Accuracy default: 98.0%\n",
      "Accuracy custom: 97.0%\n"
     ]
    },
    {
     "name": "stderr",
     "output_type": "stream",
     "text": [
      "Train model: 100%|██████████| 50/50 [00:18<00:00,  2.77it/s]\n",
      "Train model: 100%|██████████| 50/50 [00:18<00:00,  2.75it/s]"
     ]
    },
    {
     "name": "stdout",
     "output_type": "stream",
     "text": [
      "Accuracy default: 96.75%\n",
      "Accuracy custom: 94.75%\n",
      "Avg Default Acc after 10 runs: 0.9807499999999999\n",
      "Avg Custom Acc after 10 runs: 0.9615\n"
     ]
    },
    {
     "name": "stderr",
     "output_type": "stream",
     "text": [
      "\n"
     ]
    }
   ],
   "source": [
    "epochs = 50\n",
    "d_acc_hist = []\n",
    "c_acc_hist = []\n",
    "\n",
    "for i in range(10):\n",
    "    d_acc, c_acc = test_1(data, labels, noise, bs, epochs, lr, [kirsch_se], title=\"Kirsch\", return_acc=True, plot=False)\n",
    "    d_acc_hist.append(d_acc)\n",
    "    c_acc_hist.append(c_acc)\n",
    "\n",
    "print(f\"Avg Default Acc after 10 runs: {np.sum(d_acc_hist)/10}\")\n",
    "print(f\"Avg Custom Acc after 10 runs: {np.sum(c_acc_hist)/10}\")"
   ]
  },
  {
   "cell_type": "code",
   "execution_count": 13,
   "metadata": {},
   "outputs": [
    {
     "name": "stderr",
     "output_type": "stream",
     "text": [
      "Train model: 100%|██████████| 50/50 [00:18<00:00,  2.64it/s]\n",
      "Train model: 100%|██████████| 50/50 [00:19<00:00,  2.54it/s]\n"
     ]
    },
    {
     "name": "stdout",
     "output_type": "stream",
     "text": [
      "Accuracy default: 94.75%\n",
      "Accuracy custom: 89.5%\n"
     ]
    },
    {
     "name": "stderr",
     "output_type": "stream",
     "text": [
      "Train model: 100%|██████████| 50/50 [00:19<00:00,  2.60it/s]\n",
      "Train model: 100%|██████████| 50/50 [00:19<00:00,  2.53it/s]\n"
     ]
    },
    {
     "name": "stdout",
     "output_type": "stream",
     "text": [
      "Accuracy default: 98.5%\n",
      "Accuracy custom: 87.25%\n"
     ]
    },
    {
     "name": "stderr",
     "output_type": "stream",
     "text": [
      "Train model: 100%|██████████| 50/50 [00:19<00:00,  2.59it/s]\n",
      "Train model: 100%|██████████| 50/50 [00:19<00:00,  2.56it/s]\n"
     ]
    },
    {
     "name": "stdout",
     "output_type": "stream",
     "text": [
      "Accuracy default: 97.0%\n",
      "Accuracy custom: 88.5%\n"
     ]
    },
    {
     "name": "stderr",
     "output_type": "stream",
     "text": [
      "Train model: 100%|██████████| 50/50 [00:19<00:00,  2.62it/s]\n",
      "Train model: 100%|██████████| 50/50 [00:19<00:00,  2.61it/s]\n"
     ]
    },
    {
     "name": "stdout",
     "output_type": "stream",
     "text": [
      "Accuracy default: 98.0%\n",
      "Accuracy custom: 89.75%\n"
     ]
    },
    {
     "name": "stderr",
     "output_type": "stream",
     "text": [
      "Train model: 100%|██████████| 50/50 [00:18<00:00,  2.73it/s]\n",
      "Train model: 100%|██████████| 50/50 [00:19<00:00,  2.62it/s]\n"
     ]
    },
    {
     "name": "stdout",
     "output_type": "stream",
     "text": [
      "Accuracy default: 98.25%\n",
      "Accuracy custom: 90.0%\n"
     ]
    },
    {
     "name": "stderr",
     "output_type": "stream",
     "text": [
      "Train model: 100%|██████████| 50/50 [00:18<00:00,  2.68it/s]\n",
      "Train model: 100%|██████████| 50/50 [00:19<00:00,  2.58it/s]\n"
     ]
    },
    {
     "name": "stdout",
     "output_type": "stream",
     "text": [
      "Accuracy default: 98.25%\n",
      "Accuracy custom: 88.5%\n"
     ]
    },
    {
     "name": "stderr",
     "output_type": "stream",
     "text": [
      "Train model: 100%|██████████| 50/50 [00:18<00:00,  2.66it/s]\n",
      "Train model: 100%|██████████| 50/50 [00:18<00:00,  2.63it/s]\n"
     ]
    },
    {
     "name": "stdout",
     "output_type": "stream",
     "text": [
      "Accuracy default: 98.75%\n",
      "Accuracy custom: 90.75%\n"
     ]
    },
    {
     "name": "stderr",
     "output_type": "stream",
     "text": [
      "Train model: 100%|██████████| 50/50 [00:18<00:00,  2.63it/s]\n",
      "Train model: 100%|██████████| 50/50 [00:18<00:00,  2.64it/s]\n"
     ]
    },
    {
     "name": "stdout",
     "output_type": "stream",
     "text": [
      "Accuracy default: 96.0%\n",
      "Accuracy custom: 89.0%\n"
     ]
    },
    {
     "name": "stderr",
     "output_type": "stream",
     "text": [
      "Train model: 100%|██████████| 50/50 [00:18<00:00,  2.67it/s]\n",
      "Train model: 100%|██████████| 50/50 [00:19<00:00,  2.61it/s]\n"
     ]
    },
    {
     "name": "stdout",
     "output_type": "stream",
     "text": [
      "Accuracy default: 99.5%\n",
      "Accuracy custom: 86.75%\n"
     ]
    },
    {
     "name": "stderr",
     "output_type": "stream",
     "text": [
      "Train model: 100%|██████████| 50/50 [00:18<00:00,  2.67it/s]\n",
      "Train model: 100%|██████████| 50/50 [00:18<00:00,  2.63it/s]"
     ]
    },
    {
     "name": "stdout",
     "output_type": "stream",
     "text": [
      "Accuracy default: 99.25%\n",
      "Accuracy custom: 90.75%\n",
      "Avg Default Acc after 10 runs: 0.9782499999999998\n",
      "Avg Custom Acc after 10 runs: 0.89075\n"
     ]
    },
    {
     "name": "stderr",
     "output_type": "stream",
     "text": [
      "\n"
     ]
    }
   ],
   "source": [
    "epochs = 50\n",
    "d_acc_hist = []\n",
    "c_acc_hist = []\n",
    "\n",
    "for i in range(10):\n",
    "    d_acc, c_acc = test_1(data, labels, noise, bs, epochs, lr, [kirsch_s], title=\"Kirsch\", return_acc=True, plot=False)\n",
    "    d_acc_hist.append(d_acc)\n",
    "    c_acc_hist.append(c_acc)\n",
    "\n",
    "print(f\"Avg Default Acc after 10 runs: {np.sum(d_acc_hist)/10}\")\n",
    "print(f\"Avg Custom Acc after 10 runs: {np.sum(c_acc_hist)/10}\")"
   ]
  },
  {
   "cell_type": "code",
   "execution_count": 14,
   "metadata": {},
   "outputs": [
    {
     "name": "stderr",
     "output_type": "stream",
     "text": [
      "Train model: 100%|██████████| 50/50 [00:18<00:00,  2.65it/s]\n",
      "Train model: 100%|██████████| 50/50 [00:19<00:00,  2.60it/s]\n"
     ]
    },
    {
     "name": "stdout",
     "output_type": "stream",
     "text": [
      "Accuracy default: 96.25%\n",
      "Accuracy custom: 93.0%\n"
     ]
    },
    {
     "name": "stderr",
     "output_type": "stream",
     "text": [
      "Train model: 100%|██████████| 50/50 [00:18<00:00,  2.66it/s]\n",
      "Train model: 100%|██████████| 50/50 [00:19<00:00,  2.60it/s]\n"
     ]
    },
    {
     "name": "stdout",
     "output_type": "stream",
     "text": [
      "Accuracy default: 95.5%\n",
      "Accuracy custom: 91.25%\n"
     ]
    },
    {
     "name": "stderr",
     "output_type": "stream",
     "text": [
      "Train model: 100%|██████████| 50/50 [00:18<00:00,  2.65it/s]\n",
      "Train model: 100%|██████████| 50/50 [00:19<00:00,  2.53it/s]\n"
     ]
    },
    {
     "name": "stdout",
     "output_type": "stream",
     "text": [
      "Accuracy default: 97.25%\n",
      "Accuracy custom: 93.75%\n"
     ]
    },
    {
     "name": "stderr",
     "output_type": "stream",
     "text": [
      "Train model: 100%|██████████| 50/50 [00:18<00:00,  2.71it/s]\n",
      "Train model: 100%|██████████| 50/50 [00:19<00:00,  2.63it/s]\n"
     ]
    },
    {
     "name": "stdout",
     "output_type": "stream",
     "text": [
      "Accuracy default: 96.75%\n",
      "Accuracy custom: 92.25%\n"
     ]
    },
    {
     "name": "stderr",
     "output_type": "stream",
     "text": [
      "Train model: 100%|██████████| 50/50 [00:18<00:00,  2.66it/s]\n",
      "Train model: 100%|██████████| 50/50 [00:19<00:00,  2.60it/s]\n"
     ]
    },
    {
     "name": "stdout",
     "output_type": "stream",
     "text": [
      "Accuracy default: 98.75%\n",
      "Accuracy custom: 93.5%\n"
     ]
    },
    {
     "name": "stderr",
     "output_type": "stream",
     "text": [
      "Train model: 100%|██████████| 50/50 [00:18<00:00,  2.72it/s]\n",
      "Train model: 100%|██████████| 50/50 [00:18<00:00,  2.69it/s]\n"
     ]
    },
    {
     "name": "stdout",
     "output_type": "stream",
     "text": [
      "Accuracy default: 99.75%\n",
      "Accuracy custom: 94.5%\n"
     ]
    },
    {
     "name": "stderr",
     "output_type": "stream",
     "text": [
      "Train model: 100%|██████████| 50/50 [00:18<00:00,  2.74it/s]\n",
      "Train model: 100%|██████████| 50/50 [00:18<00:00,  2.69it/s]\n"
     ]
    },
    {
     "name": "stdout",
     "output_type": "stream",
     "text": [
      "Accuracy default: 97.25%\n",
      "Accuracy custom: 93.5%\n"
     ]
    },
    {
     "name": "stderr",
     "output_type": "stream",
     "text": [
      "Train model: 100%|██████████| 50/50 [00:18<00:00,  2.75it/s]\n",
      "Train model: 100%|██████████| 50/50 [00:18<00:00,  2.70it/s]\n"
     ]
    },
    {
     "name": "stdout",
     "output_type": "stream",
     "text": [
      "Accuracy default: 99.25%\n",
      "Accuracy custom: 91.75%\n"
     ]
    },
    {
     "name": "stderr",
     "output_type": "stream",
     "text": [
      "Train model: 100%|██████████| 50/50 [00:17<00:00,  2.82it/s]\n",
      "Train model: 100%|██████████| 50/50 [00:18<00:00,  2.72it/s]\n"
     ]
    },
    {
     "name": "stdout",
     "output_type": "stream",
     "text": [
      "Accuracy default: 97.75%\n",
      "Accuracy custom: 91.5%\n"
     ]
    },
    {
     "name": "stderr",
     "output_type": "stream",
     "text": [
      "Train model: 100%|██████████| 50/50 [00:17<00:00,  2.79it/s]\n",
      "Train model: 100%|██████████| 50/50 [00:21<00:00,  2.35it/s]"
     ]
    },
    {
     "name": "stdout",
     "output_type": "stream",
     "text": [
      "Accuracy default: 98.5%\n",
      "Accuracy custom: 92.75%\n",
      "Avg Default Acc after 10 runs: 0.977\n",
      "Avg Custom Acc after 10 runs: 0.92775\n"
     ]
    },
    {
     "name": "stderr",
     "output_type": "stream",
     "text": [
      "\n"
     ]
    }
   ],
   "source": [
    "epochs = 50\n",
    "d_acc_hist = []\n",
    "c_acc_hist = []\n",
    "\n",
    "for i in range(10):\n",
    "    d_acc, c_acc = test_1(data, labels, noise, bs, epochs, lr, [kirsch_sw], title=\"Kirsch\", return_acc=True, plot=False)\n",
    "    d_acc_hist.append(d_acc)\n",
    "    c_acc_hist.append(c_acc)\n",
    "\n",
    "print(f\"Avg Default Acc after 10 runs: {np.sum(d_acc_hist)/10}\")\n",
    "print(f\"Avg Custom Acc after 10 runs: {np.sum(c_acc_hist)/10}\")"
   ]
  },
  {
   "cell_type": "code",
   "execution_count": 15,
   "metadata": {},
   "outputs": [
    {
     "name": "stderr",
     "output_type": "stream",
     "text": [
      "Train model: 100%|██████████| 50/50 [00:22<00:00,  2.23it/s]\n",
      "Train model: 100%|██████████| 50/50 [00:21<00:00,  2.33it/s]\n"
     ]
    },
    {
     "name": "stdout",
     "output_type": "stream",
     "text": [
      "Accuracy default: 98.0%\n",
      "Accuracy custom: 97.5%\n"
     ]
    },
    {
     "name": "stderr",
     "output_type": "stream",
     "text": [
      "Train model: 100%|██████████| 50/50 [00:22<00:00,  2.25it/s]\n",
      "Train model: 100%|██████████| 50/50 [00:19<00:00,  2.61it/s]\n"
     ]
    },
    {
     "name": "stdout",
     "output_type": "stream",
     "text": [
      "Accuracy default: 98.0%\n",
      "Accuracy custom: 98.5%\n"
     ]
    },
    {
     "name": "stderr",
     "output_type": "stream",
     "text": [
      "Train model: 100%|██████████| 50/50 [00:18<00:00,  2.65it/s]\n",
      "Train model: 100%|██████████| 50/50 [00:20<00:00,  2.43it/s]\n"
     ]
    },
    {
     "name": "stdout",
     "output_type": "stream",
     "text": [
      "Accuracy default: 98.0%\n",
      "Accuracy custom: 98.25%\n"
     ]
    },
    {
     "name": "stderr",
     "output_type": "stream",
     "text": [
      "Train model: 100%|██████████| 50/50 [00:18<00:00,  2.70it/s]\n",
      "Train model: 100%|██████████| 50/50 [00:18<00:00,  2.74it/s]\n"
     ]
    },
    {
     "name": "stdout",
     "output_type": "stream",
     "text": [
      "Accuracy default: 96.0%\n",
      "Accuracy custom: 98.75%\n"
     ]
    },
    {
     "name": "stderr",
     "output_type": "stream",
     "text": [
      "Train model: 100%|██████████| 50/50 [00:18<00:00,  2.76it/s]\n",
      "Train model: 100%|██████████| 50/50 [00:18<00:00,  2.68it/s]\n"
     ]
    },
    {
     "name": "stdout",
     "output_type": "stream",
     "text": [
      "Accuracy default: 97.0%\n",
      "Accuracy custom: 97.5%\n"
     ]
    },
    {
     "name": "stderr",
     "output_type": "stream",
     "text": [
      "Train model: 100%|██████████| 50/50 [00:17<00:00,  2.80it/s]\n",
      "Train model: 100%|██████████| 50/50 [00:18<00:00,  2.73it/s]\n"
     ]
    },
    {
     "name": "stdout",
     "output_type": "stream",
     "text": [
      "Accuracy default: 97.0%\n",
      "Accuracy custom: 98.0%\n"
     ]
    },
    {
     "name": "stderr",
     "output_type": "stream",
     "text": [
      "Train model: 100%|██████████| 50/50 [00:17<00:00,  2.79it/s]\n",
      "Train model: 100%|██████████| 50/50 [00:18<00:00,  2.74it/s]\n"
     ]
    },
    {
     "name": "stdout",
     "output_type": "stream",
     "text": [
      "Accuracy default: 98.5%\n",
      "Accuracy custom: 95.5%\n"
     ]
    },
    {
     "name": "stderr",
     "output_type": "stream",
     "text": [
      "Train model: 100%|██████████| 50/50 [00:18<00:00,  2.67it/s]\n",
      "Train model: 100%|██████████| 50/50 [00:18<00:00,  2.70it/s]\n"
     ]
    },
    {
     "name": "stdout",
     "output_type": "stream",
     "text": [
      "Accuracy default: 97.25%\n",
      "Accuracy custom: 97.25%\n"
     ]
    },
    {
     "name": "stderr",
     "output_type": "stream",
     "text": [
      "Train model: 100%|██████████| 50/50 [00:18<00:00,  2.77it/s]\n",
      "Train model: 100%|██████████| 50/50 [00:18<00:00,  2.76it/s]\n"
     ]
    },
    {
     "name": "stdout",
     "output_type": "stream",
     "text": [
      "Accuracy default: 97.75%\n",
      "Accuracy custom: 98.75%\n"
     ]
    },
    {
     "name": "stderr",
     "output_type": "stream",
     "text": [
      "Train model: 100%|██████████| 50/50 [00:17<00:00,  2.82it/s]\n",
      "Train model: 100%|██████████| 50/50 [00:18<00:00,  2.67it/s]"
     ]
    },
    {
     "name": "stdout",
     "output_type": "stream",
     "text": [
      "Accuracy default: 97.25%\n",
      "Accuracy custom: 98.75%\n",
      "Avg Default Acc after 10 runs: 0.9747499999999999\n",
      "Avg Custom Acc after 10 runs: 0.9787500000000001\n"
     ]
    },
    {
     "name": "stderr",
     "output_type": "stream",
     "text": [
      "\n"
     ]
    }
   ],
   "source": [
    "epochs = 50\n",
    "d_acc_hist = []\n",
    "c_acc_hist = []\n",
    "\n",
    "for i in range(10):\n",
    "    d_acc, c_acc = test_1(data, labels, noise, bs, epochs, lr, [kirsch_w], title=\"Kirsch\", return_acc=True, plot=False)\n",
    "    d_acc_hist.append(d_acc)\n",
    "    c_acc_hist.append(c_acc)\n",
    "\n",
    "print(f\"Avg Default Acc after 10 runs: {np.sum(d_acc_hist)/10}\")\n",
    "print(f\"Avg Custom Acc after 10 runs: {np.sum(c_acc_hist)/10}\")"
   ]
  },
  {
   "cell_type": "code",
   "execution_count": 16,
   "metadata": {},
   "outputs": [
    {
     "name": "stderr",
     "output_type": "stream",
     "text": [
      "Train model: 100%|██████████| 50/50 [00:18<00:00,  2.71it/s]\n",
      "Train model: 100%|██████████| 50/50 [00:19<00:00,  2.58it/s]\n"
     ]
    },
    {
     "name": "stdout",
     "output_type": "stream",
     "text": [
      "Accuracy default: 98.75%\n",
      "Accuracy custom: 95.25%\n"
     ]
    },
    {
     "name": "stderr",
     "output_type": "stream",
     "text": [
      "Train model: 100%|██████████| 50/50 [00:20<00:00,  2.41it/s]\n",
      "Train model: 100%|██████████| 50/50 [00:25<00:00,  1.98it/s]\n"
     ]
    },
    {
     "name": "stdout",
     "output_type": "stream",
     "text": [
      "Accuracy default: 99.25%\n",
      "Accuracy custom: 97.0%\n"
     ]
    },
    {
     "name": "stderr",
     "output_type": "stream",
     "text": [
      "Train model: 100%|██████████| 50/50 [00:24<00:00,  2.01it/s]\n",
      "Train model: 100%|██████████| 50/50 [00:19<00:00,  2.63it/s]\n"
     ]
    },
    {
     "name": "stdout",
     "output_type": "stream",
     "text": [
      "Accuracy default: 96.75%\n",
      "Accuracy custom: 96.5%\n"
     ]
    },
    {
     "name": "stderr",
     "output_type": "stream",
     "text": [
      "Train model: 100%|██████████| 50/50 [00:18<00:00,  2.66it/s]\n",
      "Train model: 100%|██████████| 50/50 [00:19<00:00,  2.59it/s]\n"
     ]
    },
    {
     "name": "stdout",
     "output_type": "stream",
     "text": [
      "Accuracy default: 98.75%\n",
      "Accuracy custom: 94.5%\n"
     ]
    },
    {
     "name": "stderr",
     "output_type": "stream",
     "text": [
      "Train model: 100%|██████████| 50/50 [00:19<00:00,  2.61it/s]\n",
      "Train model: 100%|██████████| 50/50 [00:19<00:00,  2.51it/s]\n"
     ]
    },
    {
     "name": "stdout",
     "output_type": "stream",
     "text": [
      "Accuracy default: 96.25%\n",
      "Accuracy custom: 95.0%\n"
     ]
    },
    {
     "name": "stderr",
     "output_type": "stream",
     "text": [
      "Train model: 100%|██████████| 50/50 [00:19<00:00,  2.60it/s]\n",
      "Train model: 100%|██████████| 50/50 [00:20<00:00,  2.48it/s]\n"
     ]
    },
    {
     "name": "stdout",
     "output_type": "stream",
     "text": [
      "Accuracy default: 98.75%\n",
      "Accuracy custom: 97.0%\n"
     ]
    },
    {
     "name": "stderr",
     "output_type": "stream",
     "text": [
      "Train model: 100%|██████████| 50/50 [00:19<00:00,  2.57it/s]\n",
      "Train model: 100%|██████████| 50/50 [00:23<00:00,  2.17it/s]\n"
     ]
    },
    {
     "name": "stdout",
     "output_type": "stream",
     "text": [
      "Accuracy default: 98.0%\n",
      "Accuracy custom: 95.0%\n"
     ]
    },
    {
     "name": "stderr",
     "output_type": "stream",
     "text": [
      "Train model: 100%|██████████| 50/50 [00:21<00:00,  2.36it/s]\n",
      "Train model: 100%|██████████| 50/50 [00:18<00:00,  2.64it/s]\n"
     ]
    },
    {
     "name": "stdout",
     "output_type": "stream",
     "text": [
      "Accuracy default: 97.25%\n",
      "Accuracy custom: 97.0%\n"
     ]
    },
    {
     "name": "stderr",
     "output_type": "stream",
     "text": [
      "Train model: 100%|██████████| 50/50 [00:18<00:00,  2.72it/s]\n",
      "Train model: 100%|██████████| 50/50 [00:18<00:00,  2.64it/s]\n"
     ]
    },
    {
     "name": "stdout",
     "output_type": "stream",
     "text": [
      "Accuracy default: 98.5%\n",
      "Accuracy custom: 96.25%\n"
     ]
    },
    {
     "name": "stderr",
     "output_type": "stream",
     "text": [
      "Train model: 100%|██████████| 50/50 [00:20<00:00,  2.42it/s]\n",
      "Train model: 100%|██████████| 50/50 [00:19<00:00,  2.53it/s]"
     ]
    },
    {
     "name": "stdout",
     "output_type": "stream",
     "text": [
      "Accuracy default: 97.75%\n",
      "Accuracy custom: 97.25%\n",
      "Avg Default Acc after 10 runs: 0.9800000000000001\n",
      "Avg Custom Acc after 10 runs: 0.96075\n"
     ]
    },
    {
     "name": "stderr",
     "output_type": "stream",
     "text": [
      "\n"
     ]
    }
   ],
   "source": [
    "epochs = 50\n",
    "d_acc_hist = []\n",
    "c_acc_hist = []\n",
    "\n",
    "for i in range(10):\n",
    "    d_acc, c_acc = test_1(data, labels, noise, bs, epochs, lr, [kirsch_nw], title=\"Kirsch\", return_acc=True, plot=False)\n",
    "    d_acc_hist.append(d_acc)\n",
    "    c_acc_hist.append(c_acc)\n",
    "\n",
    "print(f\"Avg Default Acc after 10 runs: {np.sum(d_acc_hist)/10}\")\n",
    "print(f\"Avg Custom Acc after 10 runs: {np.sum(c_acc_hist)/10}\")"
   ]
  },
  {
   "cell_type": "markdown",
   "metadata": {},
   "source": [
    "#### Best Filters"
   ]
  },
  {
   "cell_type": "code",
   "execution_count": 4,
   "metadata": {},
   "outputs": [
    {
     "name": "stderr",
     "output_type": "stream",
     "text": [
      "Train model: 100%|██████████| 50/50 [00:22<00:00,  2.24it/s]\n",
      "Train model: 100%|██████████| 50/50 [00:22<00:00,  2.25it/s]\n"
     ]
    },
    {
     "name": "stdout",
     "output_type": "stream",
     "text": [
      "Accuracy default: 98.5%\n",
      "Accuracy custom: 98.5%\n"
     ]
    },
    {
     "name": "stderr",
     "output_type": "stream",
     "text": [
      "Train model: 100%|██████████| 50/50 [00:21<00:00,  2.31it/s]\n",
      "Train model: 100%|██████████| 50/50 [00:22<00:00,  2.20it/s]\n"
     ]
    },
    {
     "name": "stdout",
     "output_type": "stream",
     "text": [
      "Accuracy default: 97.75%\n",
      "Accuracy custom: 99.75%\n"
     ]
    },
    {
     "name": "stderr",
     "output_type": "stream",
     "text": [
      "Train model: 100%|██████████| 50/50 [00:21<00:00,  2.36it/s]\n",
      "Train model: 100%|██████████| 50/50 [00:22<00:00,  2.25it/s]\n"
     ]
    },
    {
     "name": "stdout",
     "output_type": "stream",
     "text": [
      "Accuracy default: 98.5%\n",
      "Accuracy custom: 99.25%\n"
     ]
    },
    {
     "name": "stderr",
     "output_type": "stream",
     "text": [
      "Train model: 100%|██████████| 50/50 [00:21<00:00,  2.29it/s]\n",
      "Train model: 100%|██████████| 50/50 [00:22<00:00,  2.24it/s]\n"
     ]
    },
    {
     "name": "stdout",
     "output_type": "stream",
     "text": [
      "Accuracy default: 98.75%\n",
      "Accuracy custom: 98.5%\n"
     ]
    },
    {
     "name": "stderr",
     "output_type": "stream",
     "text": [
      "Train model: 100%|██████████| 50/50 [00:21<00:00,  2.32it/s]\n",
      "Train model: 100%|██████████| 50/50 [00:22<00:00,  2.23it/s]\n"
     ]
    },
    {
     "name": "stdout",
     "output_type": "stream",
     "text": [
      "Accuracy default: 99.0%\n",
      "Accuracy custom: 99.5%\n"
     ]
    },
    {
     "name": "stderr",
     "output_type": "stream",
     "text": [
      "Train model: 100%|██████████| 50/50 [00:21<00:00,  2.31it/s]\n",
      "Train model: 100%|██████████| 50/50 [00:22<00:00,  2.19it/s]\n"
     ]
    },
    {
     "name": "stdout",
     "output_type": "stream",
     "text": [
      "Accuracy default: 95.5%\n",
      "Accuracy custom: 98.25%\n"
     ]
    },
    {
     "name": "stderr",
     "output_type": "stream",
     "text": [
      "Train model: 100%|██████████| 50/50 [00:21<00:00,  2.31it/s]\n",
      "Train model: 100%|██████████| 50/50 [00:19<00:00,  2.57it/s]\n"
     ]
    },
    {
     "name": "stdout",
     "output_type": "stream",
     "text": [
      "Accuracy default: 94.75%\n",
      "Accuracy custom: 99.0%\n"
     ]
    },
    {
     "name": "stderr",
     "output_type": "stream",
     "text": [
      "Train model: 100%|██████████| 50/50 [00:17<00:00,  2.81it/s]\n",
      "Train model: 100%|██████████| 50/50 [00:19<00:00,  2.54it/s]\n"
     ]
    },
    {
     "name": "stdout",
     "output_type": "stream",
     "text": [
      "Accuracy default: 98.75%\n",
      "Accuracy custom: 99.0%\n"
     ]
    },
    {
     "name": "stderr",
     "output_type": "stream",
     "text": [
      "Train model: 100%|██████████| 50/50 [00:18<00:00,  2.67it/s]\n",
      "Train model: 100%|██████████| 50/50 [00:18<00:00,  2.77it/s]\n"
     ]
    },
    {
     "name": "stdout",
     "output_type": "stream",
     "text": [
      "Accuracy default: 99.0%\n",
      "Accuracy custom: 99.75%\n"
     ]
    },
    {
     "name": "stderr",
     "output_type": "stream",
     "text": [
      "Train model: 100%|██████████| 50/50 [00:17<00:00,  2.84it/s]\n",
      "Train model: 100%|██████████| 50/50 [00:18<00:00,  2.74it/s]"
     ]
    },
    {
     "name": "stdout",
     "output_type": "stream",
     "text": [
      "Accuracy default: 98.75%\n",
      "Accuracy custom: 99.25%\n",
      "Avg Default Acc after 10 runs: 0.9792500000000001\n",
      "Avg Custom Acc after 10 runs: 0.99075\n"
     ]
    },
    {
     "name": "stderr",
     "output_type": "stream",
     "text": [
      "\n"
     ]
    }
   ],
   "source": [
    "epochs = 50\n",
    "d_acc_hist = []\n",
    "c_acc_hist = []\n",
    "\n",
    "for i in range(10):\n",
    "    d_acc, c_acc = test_1(data, labels, noise, bs, epochs, lr, [kirsch_e, kirsch_se, kirsch_w, kirsch_nw], title=\"Kirsch\", return_acc=True, plot=False)\n",
    "    d_acc_hist.append(d_acc)\n",
    "    c_acc_hist.append(c_acc)\n",
    "\n",
    "print(f\"Avg Default Acc after 10 runs: {np.sum(d_acc_hist)/10}\")\n",
    "print(f\"Avg Custom Acc after 10 runs: {np.sum(c_acc_hist)/10}\")"
   ]
  },
  {
   "cell_type": "code",
   "execution_count": 5,
   "metadata": {},
   "outputs": [
    {
     "name": "stderr",
     "output_type": "stream",
     "text": [
      "Train model: 100%|██████████| 50/50 [00:14<00:00,  3.43it/s]\n",
      "Train model: 100%|██████████| 50/50 [00:14<00:00,  3.35it/s]\n"
     ]
    },
    {
     "data": {
      "image/png": "[encoded data removed]",
      "text/plain": [
       "<Figure size 800x500 with 1 Axes>"
      ]
     },
     "metadata": {},
     "output_type": "display_data"
    },
    {
     "name": "stdout",
     "output_type": "stream",
     "text": [
      "Accuracy default: 98.25%\n",
      "Accuracy custom: 99.25%\n"
     ]
    }
   ],
   "source": [
    "epochs = 50\n",
    "test_1(data, labels, noise, bs, epochs, lr, [kirsch_e, kirsch_se, kirsch_w, kirsch_nw], title=\"Kirsch\", return_acc=False, plot=True)"
   ]
  },
  {
   "cell_type": "code",
   "execution_count": 4,
   "metadata": {},
   "outputs": [
    {
     "name": "stderr",
     "output_type": "stream",
     "text": [
      "Train model: 100%|██████████| 50/50 [00:22<00:00,  2.25it/s]\n",
      "Train model: 100%|██████████| 50/50 [00:23<00:00,  2.10it/s]\n"
     ]
    },
    {
     "name": "stdout",
     "output_type": "stream",
     "text": [
      "Accuracy default: 98.0%\n",
      "Accuracy custom: 99.5%\n"
     ]
    },
    {
     "name": "stderr",
     "output_type": "stream",
     "text": [
      "Train model: 100%|██████████| 50/50 [00:23<00:00,  2.16it/s]\n",
      "Train model: 100%|██████████| 50/50 [00:24<00:00,  2.06it/s]\n"
     ]
    },
    {
     "name": "stdout",
     "output_type": "stream",
     "text": [
      "Accuracy default: 96.0%\n",
      "Accuracy custom: 99.25%\n"
     ]
    },
    {
     "name": "stderr",
     "output_type": "stream",
     "text": [
      "Train model: 100%|██████████| 50/50 [00:23<00:00,  2.12it/s]\n",
      "Train model: 100%|██████████| 50/50 [00:23<00:00,  2.10it/s]\n"
     ]
    },
    {
     "name": "stdout",
     "output_type": "stream",
     "text": [
      "Accuracy default: 96.0%\n",
      "Accuracy custom: 98.75%\n"
     ]
    },
    {
     "name": "stderr",
     "output_type": "stream",
     "text": [
      "Train model: 100%|██████████| 50/50 [00:23<00:00,  2.14it/s]\n",
      "Train model: 100%|██████████| 50/50 [00:24<00:00,  2.05it/s]\n"
     ]
    },
    {
     "name": "stdout",
     "output_type": "stream",
     "text": [
      "Accuracy default: 98.0%\n",
      "Accuracy custom: 99.25%\n"
     ]
    },
    {
     "name": "stderr",
     "output_type": "stream",
     "text": [
      "Train model: 100%|██████████| 50/50 [00:24<00:00,  2.06it/s]\n",
      "Train model: 100%|██████████| 50/50 [00:24<00:00,  2.01it/s]\n"
     ]
    },
    {
     "name": "stdout",
     "output_type": "stream",
     "text": [
      "Accuracy default: 94.5%\n",
      "Accuracy custom: 99.25%\n"
     ]
    },
    {
     "name": "stderr",
     "output_type": "stream",
     "text": [
      "Train model: 100%|██████████| 50/50 [00:21<00:00,  2.30it/s]\n",
      "Train model: 100%|██████████| 50/50 [00:22<00:00,  2.19it/s]\n"
     ]
    },
    {
     "name": "stdout",
     "output_type": "stream",
     "text": [
      "Accuracy default: 98.5%\n",
      "Accuracy custom: 99.5%\n"
     ]
    },
    {
     "name": "stderr",
     "output_type": "stream",
     "text": [
      "Train model: 100%|██████████| 50/50 [00:23<00:00,  2.13it/s]\n",
      "Train model: 100%|██████████| 50/50 [00:25<00:00,  1.95it/s]\n"
     ]
    },
    {
     "name": "stdout",
     "output_type": "stream",
     "text": [
      "Accuracy default: 97.75%\n",
      "Accuracy custom: 99.25%\n"
     ]
    },
    {
     "name": "stderr",
     "output_type": "stream",
     "text": [
      "Train model: 100%|██████████| 50/50 [00:24<00:00,  2.05it/s]\n",
      "Train model: 100%|██████████| 50/50 [00:24<00:00,  2.01it/s]\n"
     ]
    },
    {
     "name": "stdout",
     "output_type": "stream",
     "text": [
      "Accuracy default: 97.0%\n",
      "Accuracy custom: 98.5%\n"
     ]
    },
    {
     "name": "stderr",
     "output_type": "stream",
     "text": [
      "Train model: 100%|██████████| 50/50 [00:23<00:00,  2.12it/s]\n",
      "Train model: 100%|██████████| 50/50 [00:25<00:00,  1.97it/s]\n"
     ]
    },
    {
     "name": "stdout",
     "output_type": "stream",
     "text": [
      "Accuracy default: 97.0%\n",
      "Accuracy custom: 99.5%\n"
     ]
    },
    {
     "name": "stderr",
     "output_type": "stream",
     "text": [
      "Train model: 100%|██████████| 50/50 [00:22<00:00,  2.18it/s]\n",
      "Train model: 100%|██████████| 50/50 [00:19<00:00,  2.61it/s]"
     ]
    },
    {
     "name": "stdout",
     "output_type": "stream",
     "text": [
      "Accuracy default: 98.0%\n",
      "Accuracy custom: 98.0%\n",
      "Avg Default Acc after 10 runs: 0.9707500000000001\n",
      "Avg Custom Acc after 10 runs: 0.99075\n"
     ]
    },
    {
     "name": "stderr",
     "output_type": "stream",
     "text": [
      "\n"
     ]
    }
   ],
   "source": [
    "epochs = 50\n",
    "d_acc_hist = []\n",
    "c_acc_hist = []\n",
    "\n",
    "for i in range(10):\n",
    "    d_acc, c_acc = test_2(data, labels, noise, bs, epochs, lr, [kirsch_e, kirsch_se, kirsch_w, kirsch_nw], title=\"Kirsch\", return_acc=True, plot=False)\n",
    "    d_acc_hist.append(d_acc)\n",
    "    c_acc_hist.append(c_acc)\n",
    "\n",
    "print(f\"Avg Default Acc after 10 runs: {np.sum(d_acc_hist)/10}\")\n",
    "print(f\"Avg Custom Acc after 10 runs: {np.sum(c_acc_hist)/10}\")"
   ]
  },
  {
   "cell_type": "markdown",
   "metadata": {},
   "source": [
    "#### All Filters"
   ]
  },
  {
   "cell_type": "code",
   "execution_count": 4,
   "metadata": {},
   "outputs": [
    {
     "name": "stderr",
     "output_type": "stream",
     "text": [
      "Train model: 100%|██████████| 50/50 [00:16<00:00,  3.07it/s]\n",
      "Train model: 100%|██████████| 50/50 [00:15<00:00,  3.22it/s]\n"
     ]
    },
    {
     "name": "stdout",
     "output_type": "stream",
     "text": [
      "Accuracy default: 98.75%\n",
      "Accuracy custom: 98.5%\n"
     ]
    },
    {
     "name": "stderr",
     "output_type": "stream",
     "text": [
      "Train model: 100%|██████████| 50/50 [00:14<00:00,  3.42it/s]\n",
      "Train model: 100%|██████████| 50/50 [00:15<00:00,  3.30it/s]\n"
     ]
    },
    {
     "name": "stdout",
     "output_type": "stream",
     "text": [
      "Accuracy default: 98.0%\n",
      "Accuracy custom: 99.75%\n"
     ]
    },
    {
     "name": "stderr",
     "output_type": "stream",
     "text": [
      "Train model: 100%|██████████| 50/50 [00:15<00:00,  3.23it/s]\n",
      "Train model: 100%|██████████| 50/50 [00:14<00:00,  3.37it/s]\n"
     ]
    },
    {
     "name": "stdout",
     "output_type": "stream",
     "text": [
      "Accuracy default: 97.0%\n",
      "Accuracy custom: 99.5%\n"
     ]
    },
    {
     "name": "stderr",
     "output_type": "stream",
     "text": [
      "Train model: 100%|██████████| 50/50 [00:15<00:00,  3.32it/s]\n",
      "Train model: 100%|██████████| 50/50 [00:15<00:00,  3.17it/s]\n"
     ]
    },
    {
     "name": "stdout",
     "output_type": "stream",
     "text": [
      "Accuracy default: 97.75%\n",
      "Accuracy custom: 99.75%\n"
     ]
    },
    {
     "name": "stderr",
     "output_type": "stream",
     "text": [
      "Train model: 100%|██████████| 50/50 [00:17<00:00,  2.78it/s]\n",
      "Train model: 100%|██████████| 50/50 [00:17<00:00,  2.82it/s]\n"
     ]
    },
    {
     "name": "stdout",
     "output_type": "stream",
     "text": [
      "Accuracy default: 99.75%\n",
      "Accuracy custom: 99.25%\n"
     ]
    },
    {
     "name": "stderr",
     "output_type": "stream",
     "text": [
      "Train model: 100%|██████████| 50/50 [00:23<00:00,  2.16it/s]\n",
      "Train model: 100%|██████████| 50/50 [00:20<00:00,  2.38it/s]\n"
     ]
    },
    {
     "name": "stdout",
     "output_type": "stream",
     "text": [
      "Accuracy default: 97.5%\n",
      "Accuracy custom: 99.25%\n"
     ]
    },
    {
     "name": "stderr",
     "output_type": "stream",
     "text": [
      "Train model: 100%|██████████| 50/50 [00:19<00:00,  2.56it/s]\n",
      "Train model: 100%|██████████| 50/50 [00:22<00:00,  2.26it/s]\n"
     ]
    },
    {
     "name": "stdout",
     "output_type": "stream",
     "text": [
      "Accuracy default: 99.0%\n",
      "Accuracy custom: 99.25%\n"
     ]
    },
    {
     "name": "stderr",
     "output_type": "stream",
     "text": [
      "Train model: 100%|██████████| 50/50 [00:22<00:00,  2.18it/s]\n",
      "Train model: 100%|██████████| 50/50 [00:24<00:00,  2.07it/s]\n"
     ]
    },
    {
     "name": "stdout",
     "output_type": "stream",
     "text": [
      "Accuracy default: 95.5%\n",
      "Accuracy custom: 98.5%\n"
     ]
    },
    {
     "name": "stderr",
     "output_type": "stream",
     "text": [
      "Train model: 100%|██████████| 50/50 [00:23<00:00,  2.16it/s]\n",
      "Train model: 100%|██████████| 50/50 [00:26<00:00,  1.91it/s]\n"
     ]
    },
    {
     "name": "stdout",
     "output_type": "stream",
     "text": [
      "Accuracy default: 98.0%\n",
      "Accuracy custom: 99.75%\n"
     ]
    },
    {
     "name": "stderr",
     "output_type": "stream",
     "text": [
      "Train model: 100%|██████████| 50/50 [00:25<00:00,  1.93it/s]\n",
      "Train model: 100%|██████████| 50/50 [00:27<00:00,  1.81it/s]"
     ]
    },
    {
     "name": "stdout",
     "output_type": "stream",
     "text": [
      "Accuracy default: 97.75%\n",
      "Accuracy custom: 98.5%\n",
      "Avg Default Acc after 10 runs: 0.9789999999999999\n",
      "Avg Custom Acc after 10 runs: 0.992\n"
     ]
    },
    {
     "name": "stderr",
     "output_type": "stream",
     "text": [
      "\n"
     ]
    }
   ],
   "source": [
    "epochs = 50\n",
    "d_acc_hist = []\n",
    "c_acc_hist = []\n",
    "\n",
    "for i in range(10):\n",
    "    d_acc, c_acc = test_1(data, labels, noise, bs, epochs, lr, [kirsch_n, kirsch_ne, kirsch_e, kirsch_se, kirsch_s, kirsch_sw, kirsch_w, kirsch_nw], title=\"Kirsch\", return_acc=True, plot=False)\n",
    "    d_acc_hist.append(d_acc)\n",
    "    c_acc_hist.append(c_acc)\n",
    "\n",
    "print(f\"Avg Default Acc after 10 runs: {np.sum(d_acc_hist)/10}\")\n",
    "print(f\"Avg Custom Acc after 10 runs: {np.sum(c_acc_hist)/10}\")"
   ]
  },
  {
   "cell_type": "code",
   "execution_count": 5,
   "metadata": {},
   "outputs": [
    {
     "name": "stderr",
     "output_type": "stream",
     "text": [
      "Train model: 100%|██████████| 50/50 [00:21<00:00,  2.32it/s]\n",
      "Train model: 100%|██████████| 50/50 [00:21<00:00,  2.35it/s]\n"
     ]
    },
    {
     "name": "stdout",
     "output_type": "stream",
     "text": [
      "Accuracy default: 97.75%\n",
      "Accuracy custom: 99.0%\n"
     ]
    },
    {
     "name": "stderr",
     "output_type": "stream",
     "text": [
      "Train model: 100%|██████████| 50/50 [00:19<00:00,  2.58it/s]\n",
      "Train model: 100%|██████████| 50/50 [00:21<00:00,  2.36it/s]\n"
     ]
    },
    {
     "name": "stdout",
     "output_type": "stream",
     "text": [
      "Accuracy default: 95.25%\n",
      "Accuracy custom: 99.0%\n"
     ]
    },
    {
     "name": "stderr",
     "output_type": "stream",
     "text": [
      "Train model: 100%|██████████| 50/50 [00:19<00:00,  2.51it/s]\n",
      "Train model: 100%|██████████| 50/50 [00:20<00:00,  2.42it/s]\n"
     ]
    },
    {
     "name": "stdout",
     "output_type": "stream",
     "text": [
      "Accuracy default: 97.0%\n",
      "Accuracy custom: 98.5%\n"
     ]
    },
    {
     "name": "stderr",
     "output_type": "stream",
     "text": [
      "Train model: 100%|██████████| 50/50 [00:19<00:00,  2.53it/s]\n",
      "Train model: 100%|██████████| 50/50 [00:20<00:00,  2.44it/s]\n"
     ]
    },
    {
     "name": "stdout",
     "output_type": "stream",
     "text": [
      "Accuracy default: 97.75%\n",
      "Accuracy custom: 99.0%\n"
     ]
    },
    {
     "name": "stderr",
     "output_type": "stream",
     "text": [
      "Train model: 100%|██████████| 50/50 [00:19<00:00,  2.59it/s]\n",
      "Train model: 100%|██████████| 50/50 [00:21<00:00,  2.38it/s]\n"
     ]
    },
    {
     "name": "stdout",
     "output_type": "stream",
     "text": [
      "Accuracy default: 95.75%\n",
      "Accuracy custom: 99.25%\n"
     ]
    },
    {
     "name": "stderr",
     "output_type": "stream",
     "text": [
      "Train model: 100%|██████████| 50/50 [00:19<00:00,  2.62it/s]\n",
      "Train model: 100%|██████████| 50/50 [00:20<00:00,  2.42it/s]\n"
     ]
    },
    {
     "name": "stdout",
     "output_type": "stream",
     "text": [
      "Accuracy default: 97.5%\n",
      "Accuracy custom: 99.0%\n"
     ]
    },
    {
     "name": "stderr",
     "output_type": "stream",
     "text": [
      "Train model: 100%|██████████| 50/50 [00:19<00:00,  2.58it/s]\n",
      "Train model: 100%|██████████| 50/50 [00:20<00:00,  2.39it/s]\n"
     ]
    },
    {
     "name": "stdout",
     "output_type": "stream",
     "text": [
      "Accuracy default: 98.75%\n",
      "Accuracy custom: 98.25%\n"
     ]
    },
    {
     "name": "stderr",
     "output_type": "stream",
     "text": [
      "Train model: 100%|██████████| 50/50 [00:19<00:00,  2.62it/s]\n",
      "Train model: 100%|██████████| 50/50 [00:21<00:00,  2.32it/s]\n"
     ]
    },
    {
     "name": "stdout",
     "output_type": "stream",
     "text": [
      "Accuracy default: 98.25%\n",
      "Accuracy custom: 98.75%\n"
     ]
    },
    {
     "name": "stderr",
     "output_type": "stream",
     "text": [
      "Train model: 100%|██████████| 50/50 [00:19<00:00,  2.61it/s]\n",
      "Train model: 100%|██████████| 50/50 [00:22<00:00,  2.21it/s]\n"
     ]
    },
    {
     "name": "stdout",
     "output_type": "stream",
     "text": [
      "Accuracy default: 98.5%\n",
      "Accuracy custom: 98.75%\n"
     ]
    },
    {
     "name": "stderr",
     "output_type": "stream",
     "text": [
      "Train model: 100%|██████████| 50/50 [00:19<00:00,  2.52it/s]\n",
      "Train model: 100%|██████████| 50/50 [00:21<00:00,  2.32it/s]"
     ]
    },
    {
     "name": "stdout",
     "output_type": "stream",
     "text": [
      "Accuracy default: 99.25%\n",
      "Accuracy custom: 99.75%\n",
      "Avg Default Acc after 10 runs: 0.97575\n",
      "Avg Custom Acc after 10 runs: 0.9892500000000002\n"
     ]
    },
    {
     "name": "stderr",
     "output_type": "stream",
     "text": [
      "\n"
     ]
    }
   ],
   "source": [
    "epochs = 50\n",
    "d_acc_hist = []\n",
    "c_acc_hist = []\n",
    "\n",
    "for i in range(10):\n",
    "    d_acc, c_acc = test_2(data, labels, noise, bs, epochs, lr, [kirsch_n, kirsch_ne, kirsch_e, kirsch_se, kirsch_s, kirsch_sw, kirsch_w, kirsch_nw], title=\"Kirsch\", return_acc=True, plot=False)\n",
    "    d_acc_hist.append(d_acc)\n",
    "    c_acc_hist.append(c_acc)\n",
    "\n",
    "print(f\"Avg Default Acc after 10 runs: {np.sum(d_acc_hist)/10}\")\n",
    "print(f\"Avg Custom Acc after 10 runs: {np.sum(c_acc_hist)/10}\")"
   ]
  },
  {
   "cell_type": "markdown",
   "metadata": {},
   "source": [
    "### Pulsar, Non-Pulsar, BBRFI and NBRFI Dataset"
   ]
  },
  {
   "cell_type": "code",
   "execution_count": 6,
   "metadata": {},
   "outputs": [],
   "source": [
    "dataset = np.load(\"../data/32x32_ml_ppa_data_multi.npz\")\n",
    "labels = dataset[\"labels\"]\n",
    "data = dataset[\"data\"]\n",
    "noise = 40\n",
    "\n",
    "bs = 16\n",
    "lr = 0.001"
   ]
  },
  {
   "cell_type": "code",
   "execution_count": 7,
   "metadata": {},
   "outputs": [],
   "source": [
    "kirsch_n = kirsch_filter(\"N\")\n",
    "kirsch_ne = kirsch_filter(\"NE\")\n",
    "kirsch_e = kirsch_filter(\"E\")\n",
    "kirsch_se = kirsch_filter(\"SE\")\n",
    "kirsch_s = kirsch_filter(\"S\")\n",
    "kirsch_sw = kirsch_filter(\"SW\")\n",
    "kirsch_w = kirsch_filter(\"W\")\n",
    "kirsch_nw = kirsch_filter(\"NW\")"
   ]
  },
  {
   "cell_type": "code",
   "execution_count": 8,
   "metadata": {},
   "outputs": [
    {
     "name": "stderr",
     "output_type": "stream",
     "text": [
      "Train model: 100%|██████████| 50/50 [00:24<00:00,  2.00it/s]\n",
      "Train model: 100%|██████████| 50/50 [00:26<00:00,  1.90it/s]\n"
     ]
    },
    {
     "name": "stdout",
     "output_type": "stream",
     "text": [
      "Accuracy default: 98.5%\n",
      "Accuracy custom: 99.0%\n"
     ]
    },
    {
     "name": "stderr",
     "output_type": "stream",
     "text": [
      "Train model: 100%|██████████| 50/50 [00:24<00:00,  2.02it/s]\n",
      "Train model: 100%|██████████| 50/50 [00:25<00:00,  1.93it/s]\n"
     ]
    },
    {
     "name": "stdout",
     "output_type": "stream",
     "text": [
      "Accuracy default: 97.75%\n",
      "Accuracy custom: 99.25%\n"
     ]
    },
    {
     "name": "stderr",
     "output_type": "stream",
     "text": [
      "Train model: 100%|██████████| 50/50 [00:24<00:00,  2.04it/s]\n",
      "Train model: 100%|██████████| 50/50 [00:25<00:00,  1.93it/s]\n"
     ]
    },
    {
     "name": "stdout",
     "output_type": "stream",
     "text": [
      "Accuracy default: 98.0%\n",
      "Accuracy custom: 99.0%\n"
     ]
    },
    {
     "name": "stderr",
     "output_type": "stream",
     "text": [
      "Train model: 100%|██████████| 50/50 [00:24<00:00,  2.03it/s]\n",
      "Train model: 100%|██████████| 50/50 [00:25<00:00,  1.94it/s]\n"
     ]
    },
    {
     "name": "stdout",
     "output_type": "stream",
     "text": [
      "Accuracy default: 96.5%\n",
      "Accuracy custom: 98.5%\n"
     ]
    },
    {
     "name": "stderr",
     "output_type": "stream",
     "text": [
      "Train model: 100%|██████████| 50/50 [00:24<00:00,  2.00it/s]\n",
      "Train model: 100%|██████████| 50/50 [00:25<00:00,  1.95it/s]\n"
     ]
    },
    {
     "name": "stdout",
     "output_type": "stream",
     "text": [
      "Accuracy default: 98.0%\n",
      "Accuracy custom: 98.5%\n"
     ]
    },
    {
     "name": "stderr",
     "output_type": "stream",
     "text": [
      "Train model: 100%|██████████| 50/50 [00:24<00:00,  2.03it/s]\n",
      "Train model: 100%|██████████| 50/50 [00:25<00:00,  1.96it/s]\n"
     ]
    },
    {
     "name": "stdout",
     "output_type": "stream",
     "text": [
      "Accuracy default: 97.25%\n",
      "Accuracy custom: 98.0%\n"
     ]
    },
    {
     "name": "stderr",
     "output_type": "stream",
     "text": [
      "Train model: 100%|██████████| 50/50 [00:25<00:00,  2.00it/s]\n",
      "Train model: 100%|██████████| 50/50 [00:25<00:00,  1.95it/s]\n"
     ]
    },
    {
     "name": "stdout",
     "output_type": "stream",
     "text": [
      "Accuracy default: 98.25%\n",
      "Accuracy custom: 98.75%\n"
     ]
    },
    {
     "name": "stderr",
     "output_type": "stream",
     "text": [
      "Train model: 100%|██████████| 50/50 [00:24<00:00,  2.03it/s]\n",
      "Train model: 100%|██████████| 50/50 [00:25<00:00,  1.94it/s]\n"
     ]
    },
    {
     "name": "stdout",
     "output_type": "stream",
     "text": [
      "Accuracy default: 98.5%\n",
      "Accuracy custom: 98.75%\n"
     ]
    },
    {
     "name": "stderr",
     "output_type": "stream",
     "text": [
      "Train model: 100%|██████████| 50/50 [00:24<00:00,  2.00it/s]\n",
      "Train model: 100%|██████████| 50/50 [00:25<00:00,  1.95it/s]\n"
     ]
    },
    {
     "name": "stdout",
     "output_type": "stream",
     "text": [
      "Accuracy default: 97.75%\n",
      "Accuracy custom: 98.25%\n"
     ]
    },
    {
     "name": "stderr",
     "output_type": "stream",
     "text": [
      "Train model: 100%|██████████| 50/50 [00:24<00:00,  2.01it/s]\n",
      "Train model: 100%|██████████| 50/50 [00:25<00:00,  1.95it/s]"
     ]
    },
    {
     "name": "stdout",
     "output_type": "stream",
     "text": [
      "Accuracy default: 98.0%\n",
      "Accuracy custom: 99.5%\n",
      "Avg Default Acc after 10 runs: 0.9785\n",
      "Avg Custom Acc after 10 runs: 0.9875\n"
     ]
    },
    {
     "name": "stderr",
     "output_type": "stream",
     "text": [
      "\n"
     ]
    }
   ],
   "source": [
    "epochs = 50\n",
    "d_acc_hist = []\n",
    "c_acc_hist = []\n",
    "\n",
    "for i in range(10):\n",
    "    d_acc, c_acc = test_1(data, labels, noise, bs, epochs, lr, [kirsch_e, kirsch_se, kirsch_w, kirsch_nw], title=\"Kirsch\", return_acc=True, plot=False)\n",
    "    d_acc_hist.append(d_acc)\n",
    "    c_acc_hist.append(c_acc)\n",
    "\n",
    "print(f\"Avg Default Acc after 10 runs: {np.sum(d_acc_hist)/10}\")\n",
    "print(f\"Avg Custom Acc after 10 runs: {np.sum(c_acc_hist)/10}\")"
   ]
  },
  {
   "cell_type": "code",
   "execution_count": 10,
   "metadata": {},
   "outputs": [
    {
     "name": "stderr",
     "output_type": "stream",
     "text": [
      "Train model: 100%|██████████| 50/50 [00:25<00:00,  1.97it/s]\n",
      "Train model: 100%|██████████| 50/50 [00:26<00:00,  1.86it/s]\n"
     ]
    },
    {
     "data": {
      "image/png": "[encoded data removed]",
      "text/plain": [
       "<Figure size 800x500 with 1 Axes>"
      ]
     },
     "metadata": {},
     "output_type": "display_data"
    },
    {
     "name": "stdout",
     "output_type": "stream",
     "text": [
      "Accuracy default: 97.75%\n",
      "Accuracy custom: 98.25%\n"
     ]
    }
   ],
   "source": [
    "test_1(data, labels, noise, bs, epochs, lr, [kirsch_e, kirsch_se, kirsch_w, kirsch_nw], title=\"Kirsch\", return_acc=False, plot=True)"
   ]
  },
  {
   "cell_type": "code",
   "execution_count": 9,
   "metadata": {},
   "outputs": [
    {
     "name": "stderr",
     "output_type": "stream",
     "text": [
      "Train model:   0%|          | 0/50 [00:00<?, ?it/s]"
     ]
    },
    {
     "name": "stderr",
     "output_type": "stream",
     "text": [
      "Train model: 100%|██████████| 50/50 [00:24<00:00,  2.01it/s]\n",
      "Train model: 100%|██████████| 50/50 [00:26<00:00,  1.88it/s]\n"
     ]
    },
    {
     "name": "stdout",
     "output_type": "stream",
     "text": [
      "Accuracy default: 95.75%\n",
      "Accuracy custom: 98.0%\n"
     ]
    },
    {
     "name": "stderr",
     "output_type": "stream",
     "text": [
      "Train model: 100%|██████████| 50/50 [00:25<00:00,  1.98it/s]\n",
      "Train model: 100%|██████████| 50/50 [00:26<00:00,  1.86it/s]\n"
     ]
    },
    {
     "name": "stdout",
     "output_type": "stream",
     "text": [
      "Accuracy default: 98.5%\n",
      "Accuracy custom: 99.25%\n"
     ]
    },
    {
     "name": "stderr",
     "output_type": "stream",
     "text": [
      "Train model: 100%|██████████| 50/50 [00:25<00:00,  2.00it/s]\n",
      "Train model: 100%|██████████| 50/50 [00:26<00:00,  1.88it/s]\n"
     ]
    },
    {
     "name": "stdout",
     "output_type": "stream",
     "text": [
      "Accuracy default: 96.75%\n",
      "Accuracy custom: 98.5%\n"
     ]
    },
    {
     "name": "stderr",
     "output_type": "stream",
     "text": [
      "Train model: 100%|██████████| 50/50 [00:25<00:00,  1.97it/s]\n",
      "Train model: 100%|██████████| 50/50 [00:26<00:00,  1.86it/s]\n"
     ]
    },
    {
     "name": "stdout",
     "output_type": "stream",
     "text": [
      "Accuracy default: 98.75%\n",
      "Accuracy custom: 98.75%\n"
     ]
    },
    {
     "name": "stderr",
     "output_type": "stream",
     "text": [
      "Train model: 100%|██████████| 50/50 [00:25<00:00,  1.98it/s]\n",
      "Train model: 100%|██████████| 50/50 [00:26<00:00,  1.87it/s]\n"
     ]
    },
    {
     "name": "stdout",
     "output_type": "stream",
     "text": [
      "Accuracy default: 98.25%\n",
      "Accuracy custom: 98.25%\n"
     ]
    },
    {
     "name": "stderr",
     "output_type": "stream",
     "text": [
      "Train model: 100%|██████████| 50/50 [00:25<00:00,  1.95it/s]\n",
      "Train model: 100%|██████████| 50/50 [00:27<00:00,  1.84it/s]\n"
     ]
    },
    {
     "name": "stdout",
     "output_type": "stream",
     "text": [
      "Accuracy default: 96.25%\n",
      "Accuracy custom: 98.5%\n"
     ]
    },
    {
     "name": "stderr",
     "output_type": "stream",
     "text": [
      "Train model: 100%|██████████| 50/50 [00:25<00:00,  1.98it/s]\n",
      "Train model: 100%|██████████| 50/50 [00:27<00:00,  1.84it/s]\n"
     ]
    },
    {
     "name": "stdout",
     "output_type": "stream",
     "text": [
      "Accuracy default: 96.25%\n",
      "Accuracy custom: 97.5%\n"
     ]
    },
    {
     "name": "stderr",
     "output_type": "stream",
     "text": [
      "Train model: 100%|██████████| 50/50 [00:24<00:00,  2.06it/s]\n",
      "Train model: 100%|██████████| 50/50 [00:20<00:00,  2.39it/s]\n"
     ]
    },
    {
     "name": "stdout",
     "output_type": "stream",
     "text": [
      "Accuracy default: 97.0%\n",
      "Accuracy custom: 99.25%\n"
     ]
    },
    {
     "name": "stderr",
     "output_type": "stream",
     "text": [
      "Train model: 100%|██████████| 50/50 [00:17<00:00,  2.88it/s]\n",
      "Train model: 100%|██████████| 50/50 [00:16<00:00,  2.96it/s]\n"
     ]
    },
    {
     "name": "stdout",
     "output_type": "stream",
     "text": [
      "Accuracy default: 96.0%\n",
      "Accuracy custom: 99.0%\n"
     ]
    },
    {
     "name": "stderr",
     "output_type": "stream",
     "text": [
      "Train model: 100%|██████████| 50/50 [00:15<00:00,  3.26it/s]\n",
      "Train model: 100%|██████████| 50/50 [00:16<00:00,  3.06it/s]"
     ]
    },
    {
     "name": "stdout",
     "output_type": "stream",
     "text": [
      "Accuracy default: 98.0%\n",
      "Accuracy custom: 99.25%\n",
      "Avg Default Acc after 10 runs: 0.9715\n",
      "Avg Custom Acc after 10 runs: 0.9862500000000001\n"
     ]
    },
    {
     "name": "stderr",
     "output_type": "stream",
     "text": [
      "\n"
     ]
    }
   ],
   "source": [
    "epochs = 50\n",
    "d_acc_hist = []\n",
    "c_acc_hist = []\n",
    "\n",
    "for i in range(10):\n",
    "    d_acc, c_acc = test_2(data, labels, noise, bs, epochs, lr, [kirsch_e, kirsch_se, kirsch_w, kirsch_nw], title=\"Kirsch\", return_acc=True, plot=False)\n",
    "    d_acc_hist.append(d_acc)\n",
    "    c_acc_hist.append(c_acc)\n",
    "\n",
    "print(f\"Avg Default Acc after 10 runs: {np.sum(d_acc_hist)/10}\")\n",
    "print(f\"Avg Custom Acc after 10 runs: {np.sum(c_acc_hist)/10}\")"
   ]
  }
 ],
 "metadata": {
  "kernelspec": {
   "display_name": "Python 3",
   "language": "python",
   "name": "python3"
  },
  "language_info": {
   "codemirror_mode": {
    "name": "ipython",
    "version": 3
   },
   "file_extension": ".py",
   "mimetype": "text/x-python",
   "name": "python",
   "nbconvert_exporter": "python",
   "pygments_lexer": "ipython3",
   "version": "3.12.0"
  }
 },
 "nbformat": 4,
 "nbformat_minor": 2
}
