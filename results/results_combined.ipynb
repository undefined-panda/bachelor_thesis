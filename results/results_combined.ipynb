{
 "cells": [
  {
   "cell_type": "code",
   "execution_count": 1,
   "metadata": {},
   "outputs": [],
   "source": [
    "import sys\n",
    "import os\n",
    "\n",
    "# Annahme: Das Skript wird im results-Ordner ausgeführt\n",
    "current_dir = os.getcwd()\n",
    "\n",
    "# Pfad zum src-Ordner zum Python-Pfad hinzufügen\n",
    "src_path = os.path.abspath(os.path.join(current_dir, '..', 'src'))\n",
    "sys.path.append(src_path)\n",
    "\n",
    "# Jetzt kannst du die Module direkt aus dem src-Ordner importieren\n",
    "import numpy as np\n",
    "from filter_testing import test_1, test_2\n",
    "from custom_filters import *"
   ]
  },
  {
   "cell_type": "code",
   "execution_count": 2,
   "metadata": {},
   "outputs": [],
   "source": [
    "dataset = np.load(\"../data/32x32_ml_ppa_data_binary.npz\")\n",
    "labels = dataset[\"labels\"]\n",
    "file = dataset.files[2]\n",
    "data = dataset[file]\n",
    "noise = int(file.split(\"_\")[1])\n",
    "\n",
    "bs = 16\n",
    "lr = 0.001"
   ]
  },
  {
   "cell_type": "code",
   "execution_count": 3,
   "metadata": {},
   "outputs": [],
   "source": [
    "prewitt_x = prewitt_filter(\"x\")\n",
    "prewitt_y = prewitt_filter(\"y\")\n",
    "\n",
    "sobel_x = sobel_filter(\"x\")\n",
    "sobel_y = sobel_filter(\"y\")\n",
    "\n",
    "kirsch_e = kirsch_filter(\"E\")\n",
    "kirsch_se = kirsch_filter(\"SE\")\n",
    "kirsch_w = kirsch_filter(\"W\")\n",
    "kirsch_nw = kirsch_filter(\"NW\")"
   ]
  },
  {
   "cell_type": "code",
   "execution_count": 4,
   "metadata": {},
   "outputs": [
    {
     "name": "stderr",
     "output_type": "stream",
     "text": [
      "Train model: 100%|██████████| 50/50 [00:14<00:00,  3.50it/s]\n",
      "Train model: 100%|██████████| 50/50 [00:14<00:00,  3.49it/s]\n"
     ]
    },
    {
     "name": "stdout",
     "output_type": "stream",
     "text": [
      "Accuracy default: 97.75%\n",
      "Accuracy custom: 99.5%\n"
     ]
    },
    {
     "name": "stderr",
     "output_type": "stream",
     "text": [
      "Train model: 100%|██████████| 50/50 [00:13<00:00,  3.72it/s]\n",
      "Train model: 100%|██████████| 50/50 [00:14<00:00,  3.43it/s]\n"
     ]
    },
    {
     "name": "stdout",
     "output_type": "stream",
     "text": [
      "Accuracy default: 99.0%\n",
      "Accuracy custom: 98.25%\n"
     ]
    },
    {
     "name": "stderr",
     "output_type": "stream",
     "text": [
      "Train model: 100%|██████████| 50/50 [00:13<00:00,  3.59it/s]\n",
      "Train model: 100%|██████████| 50/50 [00:14<00:00,  3.42it/s]\n"
     ]
    },
    {
     "name": "stdout",
     "output_type": "stream",
     "text": [
      "Accuracy default: 96.5%\n",
      "Accuracy custom: 99.25%\n"
     ]
    },
    {
     "name": "stderr",
     "output_type": "stream",
     "text": [
      "Train model: 100%|██████████| 50/50 [00:13<00:00,  3.60it/s]\n",
      "Train model: 100%|██████████| 50/50 [00:14<00:00,  3.44it/s]\n"
     ]
    },
    {
     "name": "stdout",
     "output_type": "stream",
     "text": [
      "Accuracy default: 97.75%\n",
      "Accuracy custom: 99.25%\n"
     ]
    },
    {
     "name": "stderr",
     "output_type": "stream",
     "text": [
      "Train model: 100%|██████████| 50/50 [00:13<00:00,  3.64it/s]\n",
      "Train model: 100%|██████████| 50/50 [00:14<00:00,  3.37it/s]\n"
     ]
    },
    {
     "name": "stdout",
     "output_type": "stream",
     "text": [
      "Accuracy default: 93.25%\n",
      "Accuracy custom: 99.75%\n"
     ]
    },
    {
     "name": "stderr",
     "output_type": "stream",
     "text": [
      "Train model: 100%|██████████| 50/50 [00:13<00:00,  3.65it/s]\n",
      "Train model: 100%|██████████| 50/50 [00:16<00:00,  2.98it/s]\n"
     ]
    },
    {
     "name": "stdout",
     "output_type": "stream",
     "text": [
      "Accuracy default: 98.25%\n",
      "Accuracy custom: 99.25%\n"
     ]
    },
    {
     "name": "stderr",
     "output_type": "stream",
     "text": [
      "Train model: 100%|██████████| 50/50 [00:22<00:00,  2.25it/s]\n",
      "Train model: 100%|██████████| 50/50 [00:21<00:00,  2.29it/s]\n"
     ]
    },
    {
     "name": "stdout",
     "output_type": "stream",
     "text": [
      "Accuracy default: 96.75%\n",
      "Accuracy custom: 98.75%\n"
     ]
    },
    {
     "name": "stderr",
     "output_type": "stream",
     "text": [
      "Train model: 100%|██████████| 50/50 [00:16<00:00,  3.05it/s]\n",
      "Train model: 100%|██████████| 50/50 [00:14<00:00,  3.37it/s]\n"
     ]
    },
    {
     "name": "stdout",
     "output_type": "stream",
     "text": [
      "Accuracy default: 97.5%\n",
      "Accuracy custom: 98.5%\n"
     ]
    },
    {
     "name": "stderr",
     "output_type": "stream",
     "text": [
      "Train model: 100%|██████████| 50/50 [00:13<00:00,  3.69it/s]\n",
      "Train model: 100%|██████████| 50/50 [00:18<00:00,  2.64it/s]\n"
     ]
    },
    {
     "name": "stdout",
     "output_type": "stream",
     "text": [
      "Accuracy default: 95.0%\n",
      "Accuracy custom: 100.0%\n"
     ]
    },
    {
     "name": "stderr",
     "output_type": "stream",
     "text": [
      "Train model: 100%|██████████| 50/50 [00:17<00:00,  2.91it/s]\n",
      "Train model: 100%|██████████| 50/50 [00:19<00:00,  2.59it/s]"
     ]
    },
    {
     "name": "stdout",
     "output_type": "stream",
     "text": [
      "Accuracy default: 98.0%\n",
      "Accuracy custom: 99.25%\n",
      "Avg Default Acc after 10 runs: 0.96975\n",
      "Avg Custom Acc after 10 runs: 0.99175\n"
     ]
    },
    {
     "name": "stderr",
     "output_type": "stream",
     "text": [
      "\n"
     ]
    }
   ],
   "source": [
    "epochs = 50\n",
    "d_acc_hist = []\n",
    "c_acc_hist = []\n",
    "\n",
    "for i in range(10):\n",
    "    d_acc, c_acc = test_1(data, labels, noise, bs, epochs, lr, [prewitt_y, sobel_y, kirsch_e, kirsch_se, kirsch_w, kirsch_nw], title=\"Combined\", return_acc=True, plot=False)\n",
    "    d_acc_hist.append(d_acc)\n",
    "    c_acc_hist.append(c_acc)\n",
    "\n",
    "print(f\"Avg Default Acc after 10 runs: {np.sum(d_acc_hist)/10}\")\n",
    "print(f\"Avg Custom Acc after 10 runs: {np.sum(c_acc_hist)/10}\")"
   ]
  },
  {
   "cell_type": "code",
   "execution_count": 5,
   "metadata": {},
   "outputs": [
    {
     "name": "stderr",
     "output_type": "stream",
     "text": [
      "Train model: 100%|██████████| 50/50 [00:19<00:00,  2.63it/s]\n",
      "Train model: 100%|██████████| 50/50 [00:17<00:00,  2.87it/s]\n"
     ]
    },
    {
     "name": "stdout",
     "output_type": "stream",
     "text": [
      "Accuracy default: 95.5%\n",
      "Accuracy custom: 99.5%\n"
     ]
    },
    {
     "name": "stderr",
     "output_type": "stream",
     "text": [
      "Train model: 100%|██████████| 50/50 [00:15<00:00,  3.13it/s]\n",
      "Train model: 100%|██████████| 50/50 [00:18<00:00,  2.69it/s]\n"
     ]
    },
    {
     "name": "stdout",
     "output_type": "stream",
     "text": [
      "Accuracy default: 95.0%\n",
      "Accuracy custom: 99.75%\n"
     ]
    },
    {
     "name": "stderr",
     "output_type": "stream",
     "text": [
      "Train model: 100%|██████████| 50/50 [00:17<00:00,  2.84it/s]\n",
      "Train model: 100%|██████████| 50/50 [00:21<00:00,  2.36it/s]\n"
     ]
    },
    {
     "name": "stdout",
     "output_type": "stream",
     "text": [
      "Accuracy default: 96.5%\n",
      "Accuracy custom: 99.5%\n"
     ]
    },
    {
     "name": "stderr",
     "output_type": "stream",
     "text": [
      "Train model: 100%|██████████| 50/50 [00:20<00:00,  2.49it/s]\n",
      "Train model: 100%|██████████| 50/50 [00:20<00:00,  2.43it/s]\n"
     ]
    },
    {
     "name": "stdout",
     "output_type": "stream",
     "text": [
      "Accuracy default: 97.5%\n",
      "Accuracy custom: 99.5%\n"
     ]
    },
    {
     "name": "stderr",
     "output_type": "stream",
     "text": [
      "Train model: 100%|██████████| 50/50 [00:19<00:00,  2.50it/s]\n",
      "Train model: 100%|██████████| 50/50 [00:19<00:00,  2.50it/s]\n"
     ]
    },
    {
     "name": "stdout",
     "output_type": "stream",
     "text": [
      "Accuracy default: 97.5%\n",
      "Accuracy custom: 99.0%\n"
     ]
    },
    {
     "name": "stderr",
     "output_type": "stream",
     "text": [
      "Train model: 100%|██████████| 50/50 [00:20<00:00,  2.41it/s]\n",
      "Train model: 100%|██████████| 50/50 [00:20<00:00,  2.40it/s]\n"
     ]
    },
    {
     "name": "stdout",
     "output_type": "stream",
     "text": [
      "Accuracy default: 98.0%\n",
      "Accuracy custom: 99.25%\n"
     ]
    },
    {
     "name": "stderr",
     "output_type": "stream",
     "text": [
      "Train model: 100%|██████████| 50/50 [00:20<00:00,  2.49it/s]\n",
      "Train model: 100%|██████████| 50/50 [00:21<00:00,  2.34it/s]\n"
     ]
    },
    {
     "name": "stdout",
     "output_type": "stream",
     "text": [
      "Accuracy default: 97.0%\n",
      "Accuracy custom: 98.25%\n"
     ]
    },
    {
     "name": "stderr",
     "output_type": "stream",
     "text": [
      "Train model: 100%|██████████| 50/50 [00:19<00:00,  2.54it/s]\n",
      "Train model: 100%|██████████| 50/50 [00:17<00:00,  2.81it/s]\n"
     ]
    },
    {
     "name": "stdout",
     "output_type": "stream",
     "text": [
      "Accuracy default: 92.25%\n",
      "Accuracy custom: 98.75%\n"
     ]
    },
    {
     "name": "stderr",
     "output_type": "stream",
     "text": [
      "Train model: 100%|██████████| 50/50 [00:15<00:00,  3.33it/s]\n",
      "Train model: 100%|██████████| 50/50 [00:14<00:00,  3.36it/s]\n"
     ]
    },
    {
     "name": "stdout",
     "output_type": "stream",
     "text": [
      "Accuracy default: 97.25%\n",
      "Accuracy custom: 99.0%\n"
     ]
    },
    {
     "name": "stderr",
     "output_type": "stream",
     "text": [
      "Train model: 100%|██████████| 50/50 [00:13<00:00,  3.72it/s]\n",
      "Train model: 100%|██████████| 50/50 [00:14<00:00,  3.38it/s]"
     ]
    },
    {
     "name": "stdout",
     "output_type": "stream",
     "text": [
      "Accuracy default: 99.0%\n",
      "Accuracy custom: 99.5%\n",
      "Avg Default Acc after 10 runs: 0.9654999999999999\n",
      "Avg Custom Acc after 10 runs: 0.992\n"
     ]
    },
    {
     "name": "stderr",
     "output_type": "stream",
     "text": [
      "\n"
     ]
    }
   ],
   "source": [
    "epochs = 50\n",
    "d_acc_hist = []\n",
    "c_acc_hist = []\n",
    "\n",
    "for i in range(10):\n",
    "    d_acc, c_acc = test_2(data, labels, noise, bs, epochs, lr, [prewitt_y, sobel_y, kirsch_e, kirsch_se, kirsch_w, kirsch_nw], title=\"Combined\", return_acc=True, plot=False)\n",
    "    d_acc_hist.append(d_acc)\n",
    "    c_acc_hist.append(c_acc)\n",
    "\n",
    "print(f\"Avg Default Acc after 10 runs: {np.sum(d_acc_hist)/10}\")\n",
    "print(f\"Avg Custom Acc after 10 runs: {np.sum(c_acc_hist)/10}\")"
   ]
  },
  {
   "cell_type": "markdown",
   "metadata": {},
   "source": [
    "#### Multi Dataset"
   ]
  },
  {
   "cell_type": "code",
   "execution_count": 6,
   "metadata": {},
   "outputs": [],
   "source": [
    "dataset = np.load(\"../data/32x32_ml_ppa_data_multi.npz\")\n",
    "labels = dataset[\"labels\"]\n",
    "data = dataset[\"data\"]\n",
    "noise = 40\n",
    "\n",
    "bs = 16\n",
    "lr = 0.001"
   ]
  },
  {
   "cell_type": "code",
   "execution_count": 7,
   "metadata": {},
   "outputs": [
    {
     "name": "stderr",
     "output_type": "stream",
     "text": [
      "Train model: 100%|██████████| 50/50 [00:19<00:00,  2.54it/s]\n",
      "Train model: 100%|██████████| 50/50 [00:18<00:00,  2.66it/s]\n"
     ]
    },
    {
     "name": "stdout",
     "output_type": "stream",
     "text": [
      "Accuracy default: 97.75%\n",
      "Accuracy custom: 97.25%\n"
     ]
    },
    {
     "name": "stderr",
     "output_type": "stream",
     "text": [
      "Train model: 100%|██████████| 50/50 [00:14<00:00,  3.34it/s]\n",
      "Train model: 100%|██████████| 50/50 [00:13<00:00,  3.64it/s]\n"
     ]
    },
    {
     "name": "stdout",
     "output_type": "stream",
     "text": [
      "Accuracy default: 96.5%\n",
      "Accuracy custom: 98.5%\n"
     ]
    },
    {
     "name": "stderr",
     "output_type": "stream",
     "text": [
      "Train model: 100%|██████████| 50/50 [00:15<00:00,  3.20it/s]\n",
      "Train model: 100%|██████████| 50/50 [00:13<00:00,  3.60it/s]\n"
     ]
    },
    {
     "name": "stdout",
     "output_type": "stream",
     "text": [
      "Accuracy default: 97.5%\n",
      "Accuracy custom: 98.5%\n"
     ]
    },
    {
     "name": "stderr",
     "output_type": "stream",
     "text": [
      "Train model: 100%|██████████| 50/50 [00:20<00:00,  2.40it/s]\n",
      "Train model: 100%|██████████| 50/50 [00:20<00:00,  2.39it/s]\n"
     ]
    },
    {
     "name": "stdout",
     "output_type": "stream",
     "text": [
      "Accuracy default: 97.5%\n",
      "Accuracy custom: 99.25%\n"
     ]
    },
    {
     "name": "stderr",
     "output_type": "stream",
     "text": [
      "Train model: 100%|██████████| 50/50 [00:19<00:00,  2.57it/s]\n",
      "Train model: 100%|██████████| 50/50 [00:21<00:00,  2.28it/s]\n"
     ]
    },
    {
     "name": "stdout",
     "output_type": "stream",
     "text": [
      "Accuracy default: 95.75%\n",
      "Accuracy custom: 98.5%\n"
     ]
    },
    {
     "name": "stderr",
     "output_type": "stream",
     "text": [
      "Train model: 100%|██████████| 50/50 [00:19<00:00,  2.53it/s]\n",
      "Train model: 100%|██████████| 50/50 [00:19<00:00,  2.53it/s]\n"
     ]
    },
    {
     "name": "stdout",
     "output_type": "stream",
     "text": [
      "Accuracy default: 96.0%\n",
      "Accuracy custom: 98.0%\n"
     ]
    },
    {
     "name": "stderr",
     "output_type": "stream",
     "text": [
      "Train model: 100%|██████████| 50/50 [00:19<00:00,  2.63it/s]\n",
      "Train model: 100%|██████████| 50/50 [00:19<00:00,  2.56it/s]\n"
     ]
    },
    {
     "name": "stdout",
     "output_type": "stream",
     "text": [
      "Accuracy default: 96.25%\n",
      "Accuracy custom: 98.75%\n"
     ]
    },
    {
     "name": "stderr",
     "output_type": "stream",
     "text": [
      "Train model: 100%|██████████| 50/50 [00:18<00:00,  2.67it/s]\n",
      "Train model: 100%|██████████| 50/50 [00:15<00:00,  3.13it/s]\n"
     ]
    },
    {
     "name": "stdout",
     "output_type": "stream",
     "text": [
      "Accuracy default: 97.75%\n",
      "Accuracy custom: 98.5%\n"
     ]
    },
    {
     "name": "stderr",
     "output_type": "stream",
     "text": [
      "Train model: 100%|██████████| 50/50 [00:15<00:00,  3.18it/s]\n",
      "Train model: 100%|██████████| 50/50 [00:14<00:00,  3.40it/s]\n"
     ]
    },
    {
     "name": "stdout",
     "output_type": "stream",
     "text": [
      "Accuracy default: 97.0%\n",
      "Accuracy custom: 99.0%\n"
     ]
    },
    {
     "name": "stderr",
     "output_type": "stream",
     "text": [
      "Train model: 100%|██████████| 50/50 [00:15<00:00,  3.22it/s]\n",
      "Train model: 100%|██████████| 50/50 [00:16<00:00,  3.08it/s]"
     ]
    },
    {
     "name": "stdout",
     "output_type": "stream",
     "text": [
      "Accuracy default: 98.5%\n",
      "Accuracy custom: 99.25%\n",
      "Avg Default Acc after 10 runs: 0.9705\n",
      "Avg Custom Acc after 10 runs: 0.9855\n"
     ]
    },
    {
     "name": "stderr",
     "output_type": "stream",
     "text": [
      "\n"
     ]
    }
   ],
   "source": [
    "epochs = 50\n",
    "d_acc_hist = []\n",
    "c_acc_hist = []\n",
    "\n",
    "for i in range(10):\n",
    "    d_acc, c_acc = test_1(data, labels, noise, bs, epochs, lr, [prewitt_x, prewitt_y, sobel_x, sobel_y, kirsch_e, kirsch_se, kirsch_w, kirsch_nw], title=\"Combined\", return_acc=True, plot=False)\n",
    "    d_acc_hist.append(d_acc)\n",
    "    c_acc_hist.append(c_acc)\n",
    "\n",
    "print(f\"Avg Default Acc after 10 runs: {np.sum(d_acc_hist)/10}\")\n",
    "print(f\"Avg Custom Acc after 10 runs: {np.sum(c_acc_hist)/10}\")"
   ]
  },
  {
   "cell_type": "code",
   "execution_count": 8,
   "metadata": {},
   "outputs": [
    {
     "name": "stderr",
     "output_type": "stream",
     "text": [
      "Train model: 100%|██████████| 50/50 [00:20<00:00,  2.48it/s]\n",
      "Train model: 100%|██████████| 50/50 [00:21<00:00,  2.33it/s]\n"
     ]
    },
    {
     "name": "stdout",
     "output_type": "stream",
     "text": [
      "Accuracy default: 98.0%\n",
      "Accuracy custom: 98.25%\n"
     ]
    },
    {
     "name": "stderr",
     "output_type": "stream",
     "text": [
      "Train model: 100%|██████████| 50/50 [00:19<00:00,  2.59it/s]\n",
      "Train model: 100%|██████████| 50/50 [00:21<00:00,  2.37it/s]\n"
     ]
    },
    {
     "name": "stdout",
     "output_type": "stream",
     "text": [
      "Accuracy default: 96.75%\n",
      "Accuracy custom: 99.5%\n"
     ]
    },
    {
     "name": "stderr",
     "output_type": "stream",
     "text": [
      "Train model: 100%|██████████| 50/50 [00:19<00:00,  2.59it/s]\n",
      "Train model: 100%|██████████| 50/50 [00:20<00:00,  2.43it/s]\n"
     ]
    },
    {
     "name": "stdout",
     "output_type": "stream",
     "text": [
      "Accuracy default: 97.25%\n",
      "Accuracy custom: 98.75%\n"
     ]
    },
    {
     "name": "stderr",
     "output_type": "stream",
     "text": [
      "Train model: 100%|██████████| 50/50 [00:19<00:00,  2.60it/s]\n",
      "Train model: 100%|██████████| 50/50 [00:20<00:00,  2.45it/s]\n"
     ]
    },
    {
     "name": "stdout",
     "output_type": "stream",
     "text": [
      "Accuracy default: 97.5%\n",
      "Accuracy custom: 99.25%\n"
     ]
    },
    {
     "name": "stderr",
     "output_type": "stream",
     "text": [
      "Train model: 100%|██████████| 50/50 [00:20<00:00,  2.41it/s]\n",
      "Train model: 100%|██████████| 50/50 [00:27<00:00,  1.85it/s]\n"
     ]
    },
    {
     "name": "stdout",
     "output_type": "stream",
     "text": [
      "Accuracy default: 94.75%\n",
      "Accuracy custom: 99.0%\n"
     ]
    },
    {
     "name": "stderr",
     "output_type": "stream",
     "text": [
      "Train model: 100%|██████████| 50/50 [00:21<00:00,  2.32it/s]\n",
      "Train model: 100%|██████████| 50/50 [00:16<00:00,  3.12it/s]\n"
     ]
    },
    {
     "name": "stdout",
     "output_type": "stream",
     "text": [
      "Accuracy default: 98.0%\n",
      "Accuracy custom: 96.75%\n"
     ]
    },
    {
     "name": "stderr",
     "output_type": "stream",
     "text": [
      "Train model: 100%|██████████| 50/50 [00:15<00:00,  3.23it/s]\n",
      "Train model: 100%|██████████| 50/50 [00:17<00:00,  2.82it/s]\n"
     ]
    },
    {
     "name": "stdout",
     "output_type": "stream",
     "text": [
      "Accuracy default: 96.0%\n",
      "Accuracy custom: 99.25%\n"
     ]
    },
    {
     "name": "stderr",
     "output_type": "stream",
     "text": [
      "Train model: 100%|██████████| 50/50 [00:14<00:00,  3.46it/s]\n",
      "Train model: 100%|██████████| 50/50 [00:16<00:00,  3.07it/s]\n"
     ]
    },
    {
     "name": "stdout",
     "output_type": "stream",
     "text": [
      "Accuracy default: 97.75%\n",
      "Accuracy custom: 99.25%\n"
     ]
    },
    {
     "name": "stderr",
     "output_type": "stream",
     "text": [
      "Train model: 100%|██████████| 50/50 [00:14<00:00,  3.51it/s]\n",
      "Train model: 100%|██████████| 50/50 [00:19<00:00,  2.54it/s]\n"
     ]
    },
    {
     "name": "stdout",
     "output_type": "stream",
     "text": [
      "Accuracy default: 98.5%\n",
      "Accuracy custom: 99.75%\n"
     ]
    },
    {
     "name": "stderr",
     "output_type": "stream",
     "text": [
      "Train model: 100%|██████████| 50/50 [00:17<00:00,  2.92it/s]\n",
      "Train model: 100%|██████████| 50/50 [00:17<00:00,  2.87it/s]"
     ]
    },
    {
     "name": "stdout",
     "output_type": "stream",
     "text": [
      "Accuracy default: 98.0%\n",
      "Accuracy custom: 99.0%\n",
      "Avg Default Acc after 10 runs: 0.9724999999999999\n",
      "Avg Custom Acc after 10 runs: 0.9887500000000001\n"
     ]
    },
    {
     "name": "stderr",
     "output_type": "stream",
     "text": [
      "\n"
     ]
    }
   ],
   "source": [
    "epochs = 50\n",
    "d_acc_hist = []\n",
    "c_acc_hist = []\n",
    "\n",
    "for i in range(10):\n",
    "    d_acc, c_acc = test_2(data, labels, noise, bs, epochs, lr, [prewitt_x, prewitt_y, sobel_x, sobel_y, kirsch_e, kirsch_se, kirsch_w, kirsch_nw], title=\"Combined\", return_acc=True, plot=False)\n",
    "    d_acc_hist.append(d_acc)\n",
    "    c_acc_hist.append(c_acc)\n",
    "\n",
    "print(f\"Avg Default Acc after 10 runs: {np.sum(d_acc_hist)/10}\")\n",
    "print(f\"Avg Custom Acc after 10 runs: {np.sum(c_acc_hist)/10}\")"
   ]
  }
 ],
 "metadata": {
  "kernelspec": {
   "display_name": "Python 3",
   "language": "python",
   "name": "python3"
  },
  "language_info": {
   "codemirror_mode": {
    "name": "ipython",
    "version": 3
   },
   "file_extension": ".py",
   "mimetype": "text/x-python",
   "name": "python",
   "nbconvert_exporter": "python",
   "pygments_lexer": "ipython3",
   "version": "3.12.0"
  }
 },
 "nbformat": 4,
 "nbformat_minor": 2
}
