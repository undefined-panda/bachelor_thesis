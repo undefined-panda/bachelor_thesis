{
 "cells": [
  {
   "cell_type": "markdown",
   "metadata": {},
   "source": [
    "# Test results on Canny Algorithm\n",
    "This file contains the results of applying the Canny Algorith as an edge detector for training on pulsar data.\n",
    "\n",
    "To see what applying the filter on an image looks like please go to `visualization/filter_visualization.ipynb`"
   ]
  },
  {
   "cell_type": "code",
   "execution_count": null,
   "metadata": {},
   "outputs": [],
   "source": [
    "import sys\n",
    "import os\n",
    "\n",
    "# Annahme: Das Skript wird im results-Ordner ausgeführt\n",
    "current_dir = os.getcwd()\n",
    "\n",
    "# Pfad zum src-Ordner zum Python-Pfad hinzufügen\n",
    "src_path = os.path.abspath(os.path.join(current_dir, '..', 'src'))\n",
    "sys.path.append(src_path)\n",
    "\n",
    "# Jetzt kannst du die Module direkt aus dem src-Ordner importieren\n",
    "import numpy as np\n",
    "from filter_testing import test_canny\n",
    "from custom_filters import *"
   ]
  },
  {
   "cell_type": "code",
   "execution_count": null,
   "metadata": {},
   "outputs": [],
   "source": [
    "dataset = np.load(\"../data/256x256_ml_ppa_data_binary.npz\")\n",
    "labels = dataset[\"labels\"]\n",
    "file = dataset.files[0]\n",
    "data = dataset[file]\n",
    "noise = int(file.split(\"_\")[1])\n",
    "\n",
    "bs = 16\n",
    "lr = 0.001"
   ]
  },
  {
   "cell_type": "code",
   "execution_count": null,
   "metadata": {},
   "outputs": [],
   "source": [
    "sobel_y = sobel_filter(\"y\")\n",
    "sobel_x = sobel_filter(\"x\")"
   ]
  },
  {
   "cell_type": "code",
   "execution_count": null,
   "metadata": {},
   "outputs": [],
   "source": [
    "epochs = 50\n",
    "test_canny(data, labels, noise, bs, epochs, lr, [sobel_x, sobel_y], title=\"Canny with Sobel\", return_acc=False, plot=True)"
   ]
  },
  {
   "cell_type": "code",
   "execution_count": null,
   "metadata": {},
   "outputs": [],
   "source": [
    "epochs = 50\n",
    "d_acc_hist = []\n",
    "c_acc_hist = []\n",
    "\n",
    "count = 10\n",
    "while count > 0:\n",
    "    if count == 1:\n",
    "        d_acc, c_acc = test_canny(data, labels, noise, bs, epochs, lr, [sobel_x, sobel_y], title=\"Canny with Sobel\", return_acc=True, plot=True)\n",
    "    else:\n",
    "        d_acc, c_acc = test_canny(data, labels, noise, bs, epochs, lr, [sobel_x, sobel_y], title=\"Canny with Sobel\", return_acc=True, plot=False)\n",
    "    if d_acc < 0.7 or c_acc < 0.7:\n",
    "        print(\"Repeating test...\")\n",
    "        continue\n",
    "\n",
    "    d_acc_hist.append(d_acc)\n",
    "    c_acc_hist.append(c_acc)\n",
    "    count -= 1\n",
    "\n",
    "print(f\"Avg Default Acc after 10 runs: {np.sum(d_acc_hist)/10}\")\n",
    "print(f\"Avg Custom Acc after 10 runs: {np.sum(c_acc_hist)/10}\")"
   ]
  },
  {
   "cell_type": "code",
   "execution_count": null,
   "metadata": {},
   "outputs": [],
   "source": [
    "dataset = np.load(\"../data/256x256_ml_ppa_data_binary.npz\")\n",
    "labels = dataset[\"labels\"]\n",
    "file = dataset.files[0]\n",
    "data = dataset[file]\n",
    "noise = int(file.split(\"_\")[1])\n",
    "\n",
    "lr = 0.001\n",
    "bs = 16"
   ]
  },
  {
   "cell_type": "code",
   "execution_count": null,
   "metadata": {},
   "outputs": [],
   "source": [
    "epochs = 50\n",
    "d_acc_hist = []\n",
    "c_acc_hist = []\n",
    "\n",
    "count = 10\n",
    "while count > 0:\n",
    "    if count == 1:\n",
    "        d_acc, c_acc = test_canny(data, labels, noise, bs, epochs, lr, [sobel_x, sobel_y], title=\"Canny with Sobel\", return_acc=True, plot=True)\n",
    "    else:\n",
    "        d_acc, c_acc = test_canny(data, labels, noise, bs, epochs, lr, [sobel_x, sobel_y], title=\"Canny with Sobel\", return_acc=True, plot=False)\n",
    "    if d_acc < 0.7 or c_acc < 0.7:\n",
    "        print(\"Repeating test...\")\n",
    "        continue\n",
    "\n",
    "    d_acc_hist.append(d_acc)\n",
    "    c_acc_hist.append(c_acc)\n",
    "    count -= 1\n",
    "\n",
    "print(f\"Avg Default Acc after 10 runs: {np.sum(d_acc_hist)/10}\")\n",
    "print(f\"Avg Custom Acc after 10 runs: {np.sum(c_acc_hist)/10}\")"
   ]
  }
 ],
 "metadata": {
  "kernelspec": {
   "display_name": "Python 3",
   "language": "python",
   "name": "python3"
  },
  "language_info": {
   "codemirror_mode": {
    "name": "ipython",
    "version": 3
   },
   "file_extension": ".py",
   "mimetype": "text/x-python",
   "name": "python",
   "nbconvert_exporter": "python",
   "pygments_lexer": "ipython3",
   "version": "3.12.0"
  }
 },
 "nbformat": 4,
 "nbformat_minor": 2
}
