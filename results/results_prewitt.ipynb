{
 "cells": [
  {
   "cell_type": "markdown",
   "metadata": {},
   "source": [
    "# Test results on Prewitt Filters\n",
    "This file contains the results of applying the Prewitt Filters as custom filters for training on pulsar data.\n",
    "\n",
    "To see what applying the filter on an image looks like please go to `visualization/filter_visualization.ipynb`"
   ]
  },
  {
   "cell_type": "code",
   "execution_count": 2,
   "metadata": {},
   "outputs": [],
   "source": [
    "import sys\n",
    "import os\n",
    "\n",
    "# Annahme: Das Skript wird im results-Ordner ausgeführt\n",
    "current_dir = os.getcwd()\n",
    "\n",
    "# Pfad zum src-Ordner zum Python-Pfad hinzufügen\n",
    "src_path = os.path.abspath(os.path.join(current_dir, '..', 'src'))\n",
    "sys.path.append(src_path)\n",
    "\n",
    "# Jetzt kannst du die Module direkt aus dem src-Ordner importieren\n",
    "import numpy as np\n",
    "from filter_testing import *\n",
    "from custom_filters import *"
   ]
  },
  {
   "cell_type": "markdown",
   "metadata": {},
   "source": [
    "### Pulsar and Non-Pulsar Dataset"
   ]
  },
  {
   "cell_type": "code",
   "execution_count": 2,
   "metadata": {},
   "outputs": [],
   "source": [
    "dataset = np.load(\"../data/32x32_ml_ppa_data_binary.npz\")\n",
    "labels = dataset[\"labels\"]\n",
    "file = dataset.files[2]\n",
    "data = dataset[file]\n",
    "noise = int(file.split(\"_\")[1])\n",
    "\n",
    "bs = 16\n",
    "lr = 0.001"
   ]
  },
  {
   "cell_type": "code",
   "execution_count": 3,
   "metadata": {},
   "outputs": [],
   "source": [
    "prewitt_x = prewitt_filter(\"x\")\n",
    "prewitt_y = prewitt_filter(\"y\")"
   ]
  },
  {
   "cell_type": "code",
   "execution_count": 4,
   "metadata": {},
   "outputs": [
    {
     "name": "stderr",
     "output_type": "stream",
     "text": [
      "Train model: 100%|██████████| 50/50 [00:15<00:00,  3.26it/s]\n",
      "Train model: 100%|██████████| 50/50 [00:14<00:00,  3.49it/s]\n"
     ]
    },
    {
     "name": "stdout",
     "output_type": "stream",
     "text": [
      "Accuracy default: 99.0%\n",
      "Accuracy custom: 92.25%\n"
     ]
    },
    {
     "name": "stderr",
     "output_type": "stream",
     "text": [
      "Train model: 100%|██████████| 50/50 [00:13<00:00,  3.64it/s]\n",
      "Train model: 100%|██████████| 50/50 [00:14<00:00,  3.42it/s]\n"
     ]
    },
    {
     "name": "stdout",
     "output_type": "stream",
     "text": [
      "Accuracy default: 98.5%\n",
      "Accuracy custom: 91.25%\n"
     ]
    },
    {
     "name": "stderr",
     "output_type": "stream",
     "text": [
      "Train model: 100%|██████████| 50/50 [00:14<00:00,  3.47it/s]\n",
      "Train model: 100%|██████████| 50/50 [00:14<00:00,  3.34it/s]\n"
     ]
    },
    {
     "name": "stdout",
     "output_type": "stream",
     "text": [
      "Accuracy default: 97.75%\n",
      "Accuracy custom: 91.0%\n"
     ]
    },
    {
     "name": "stderr",
     "output_type": "stream",
     "text": [
      "Train model: 100%|██████████| 50/50 [00:14<00:00,  3.45it/s]\n",
      "Train model: 100%|██████████| 50/50 [00:14<00:00,  3.37it/s]\n"
     ]
    },
    {
     "name": "stdout",
     "output_type": "stream",
     "text": [
      "Accuracy default: 97.25%\n",
      "Accuracy custom: 87.5%\n"
     ]
    },
    {
     "name": "stderr",
     "output_type": "stream",
     "text": [
      "Train model: 100%|██████████| 50/50 [00:12<00:00,  3.93it/s]\n",
      "Train model: 100%|██████████| 50/50 [00:13<00:00,  3.66it/s]\n"
     ]
    },
    {
     "name": "stdout",
     "output_type": "stream",
     "text": [
      "Accuracy default: 97.75%\n",
      "Accuracy custom: 89.5%\n"
     ]
    },
    {
     "name": "stderr",
     "output_type": "stream",
     "text": [
      "Train model: 100%|██████████| 50/50 [00:12<00:00,  3.96it/s]\n",
      "Train model: 100%|██████████| 50/50 [00:14<00:00,  3.39it/s]\n"
     ]
    },
    {
     "name": "stdout",
     "output_type": "stream",
     "text": [
      "Accuracy default: 98.25%\n",
      "Accuracy custom: 91.5%\n"
     ]
    },
    {
     "name": "stderr",
     "output_type": "stream",
     "text": [
      "Train model: 100%|██████████| 50/50 [00:13<00:00,  3.59it/s]\n",
      "Train model: 100%|██████████| 50/50 [00:14<00:00,  3.46it/s]\n"
     ]
    },
    {
     "name": "stdout",
     "output_type": "stream",
     "text": [
      "Accuracy default: 98.25%\n",
      "Accuracy custom: 93.25%\n"
     ]
    },
    {
     "name": "stderr",
     "output_type": "stream",
     "text": [
      "Train model: 100%|██████████| 50/50 [00:13<00:00,  3.68it/s]\n",
      "Train model: 100%|██████████| 50/50 [00:13<00:00,  3.58it/s]\n"
     ]
    },
    {
     "name": "stdout",
     "output_type": "stream",
     "text": [
      "Accuracy default: 97.5%\n",
      "Accuracy custom: 91.25%\n"
     ]
    },
    {
     "name": "stderr",
     "output_type": "stream",
     "text": [
      "Train model: 100%|██████████| 50/50 [00:14<00:00,  3.55it/s]\n",
      "Train model: 100%|██████████| 50/50 [00:13<00:00,  3.63it/s]\n"
     ]
    },
    {
     "name": "stdout",
     "output_type": "stream",
     "text": [
      "Accuracy default: 98.0%\n",
      "Accuracy custom: 91.75%\n"
     ]
    },
    {
     "name": "stderr",
     "output_type": "stream",
     "text": [
      "Train model: 100%|██████████| 50/50 [00:13<00:00,  3.70it/s]\n",
      "Train model: 100%|██████████| 50/50 [00:13<00:00,  3.77it/s]"
     ]
    },
    {
     "name": "stdout",
     "output_type": "stream",
     "text": [
      "Accuracy default: 96.25%\n",
      "Accuracy custom: 90.75%\n",
      "Avg Default Acc after 10 runs: 0.9785\n",
      "Avg Custom Acc after 10 runs: 0.9100000000000001\n"
     ]
    },
    {
     "name": "stderr",
     "output_type": "stream",
     "text": [
      "\n"
     ]
    }
   ],
   "source": [
    "epochs = 50\n",
    "d_acc_hist = []\n",
    "c_acc_hist = []\n",
    "\n",
    "for i in range(10):\n",
    "    d_acc, c_acc = test_1(data, labels, noise, bs, epochs, lr, [prewitt_x], title=\"Prewitt\", return_acc=True, plot=False)\n",
    "    d_acc_hist.append(d_acc)\n",
    "    c_acc_hist.append(c_acc)\n",
    "\n",
    "print(f\"Avg Default Acc after 10 runs: {np.sum(d_acc_hist)/10}\")\n",
    "print(f\"Avg Custom Acc after 10 runs: {np.sum(c_acc_hist)/10}\")"
   ]
  },
  {
   "cell_type": "code",
   "execution_count": 5,
   "metadata": {},
   "outputs": [
    {
     "name": "stderr",
     "output_type": "stream",
     "text": [
      "Train model: 100%|██████████| 50/50 [00:14<00:00,  3.47it/s]\n",
      "Train model: 100%|██████████| 50/50 [00:15<00:00,  3.31it/s]\n"
     ]
    },
    {
     "name": "stdout",
     "output_type": "stream",
     "text": [
      "Accuracy default: 99.0%\n",
      "Accuracy custom: 98.5%\n"
     ]
    },
    {
     "name": "stderr",
     "output_type": "stream",
     "text": [
      "Train model: 100%|██████████| 50/50 [00:13<00:00,  3.59it/s]\n",
      "Train model: 100%|██████████| 50/50 [00:14<00:00,  3.35it/s]\n"
     ]
    },
    {
     "name": "stdout",
     "output_type": "stream",
     "text": [
      "Accuracy default: 98.0%\n",
      "Accuracy custom: 96.75%\n"
     ]
    },
    {
     "name": "stderr",
     "output_type": "stream",
     "text": [
      "Train model: 100%|██████████| 50/50 [00:13<00:00,  3.61it/s]\n",
      "Train model: 100%|██████████| 50/50 [00:14<00:00,  3.56it/s]\n"
     ]
    },
    {
     "name": "stdout",
     "output_type": "stream",
     "text": [
      "Accuracy default: 98.5%\n",
      "Accuracy custom: 97.5%\n"
     ]
    },
    {
     "name": "stderr",
     "output_type": "stream",
     "text": [
      "Train model: 100%|██████████| 50/50 [00:14<00:00,  3.46it/s]\n",
      "Train model: 100%|██████████| 50/50 [00:14<00:00,  3.45it/s]\n"
     ]
    },
    {
     "name": "stdout",
     "output_type": "stream",
     "text": [
      "Accuracy default: 97.5%\n",
      "Accuracy custom: 96.25%\n"
     ]
    },
    {
     "name": "stderr",
     "output_type": "stream",
     "text": [
      "Train model: 100%|██████████| 50/50 [00:14<00:00,  3.34it/s]\n",
      "Train model: 100%|██████████| 50/50 [00:13<00:00,  3.57it/s]\n"
     ]
    },
    {
     "name": "stdout",
     "output_type": "stream",
     "text": [
      "Accuracy default: 97.5%\n",
      "Accuracy custom: 97.25%\n"
     ]
    },
    {
     "name": "stderr",
     "output_type": "stream",
     "text": [
      "Train model: 100%|██████████| 50/50 [00:13<00:00,  3.59it/s]\n",
      "Train model: 100%|██████████| 50/50 [00:13<00:00,  3.59it/s]\n"
     ]
    },
    {
     "name": "stdout",
     "output_type": "stream",
     "text": [
      "Accuracy default: 98.5%\n",
      "Accuracy custom: 98.25%\n"
     ]
    },
    {
     "name": "stderr",
     "output_type": "stream",
     "text": [
      "Train model: 100%|██████████| 50/50 [00:14<00:00,  3.57it/s]\n",
      "Train model: 100%|██████████| 50/50 [00:14<00:00,  3.38it/s]\n"
     ]
    },
    {
     "name": "stdout",
     "output_type": "stream",
     "text": [
      "Accuracy default: 97.75%\n",
      "Accuracy custom: 97.25%\n"
     ]
    },
    {
     "name": "stderr",
     "output_type": "stream",
     "text": [
      "Train model: 100%|██████████| 50/50 [00:14<00:00,  3.52it/s]\n",
      "Train model: 100%|██████████| 50/50 [00:14<00:00,  3.48it/s]\n"
     ]
    },
    {
     "name": "stdout",
     "output_type": "stream",
     "text": [
      "Accuracy default: 97.5%\n",
      "Accuracy custom: 96.0%\n"
     ]
    },
    {
     "name": "stderr",
     "output_type": "stream",
     "text": [
      "Train model: 100%|██████████| 50/50 [00:14<00:00,  3.56it/s]\n",
      "Train model: 100%|██████████| 50/50 [00:15<00:00,  3.32it/s]\n"
     ]
    },
    {
     "name": "stdout",
     "output_type": "stream",
     "text": [
      "Accuracy default: 97.0%\n",
      "Accuracy custom: 96.25%\n"
     ]
    },
    {
     "name": "stderr",
     "output_type": "stream",
     "text": [
      "Train model: 100%|██████████| 50/50 [00:13<00:00,  3.61it/s]\n",
      "Train model: 100%|██████████| 50/50 [00:14<00:00,  3.42it/s]"
     ]
    },
    {
     "name": "stdout",
     "output_type": "stream",
     "text": [
      "Accuracy default: 98.5%\n",
      "Accuracy custom: 97.25%\n",
      "Avg Default Acc after 10 runs: 0.9797499999999999\n",
      "Avg Custom Acc after 10 runs: 0.9712500000000001\n"
     ]
    },
    {
     "name": "stderr",
     "output_type": "stream",
     "text": [
      "\n"
     ]
    }
   ],
   "source": [
    "epochs = 50\n",
    "d_acc_hist = []\n",
    "c_acc_hist = []\n",
    "\n",
    "for i in range(10):\n",
    "    d_acc, c_acc = test_1(data, labels, noise, bs, epochs, lr, [prewitt_y], title=\"Prewitt\", return_acc=True, plot=False)\n",
    "    d_acc_hist.append(d_acc)\n",
    "    c_acc_hist.append(c_acc)\n",
    "\n",
    "print(f\"Avg Default Acc after 10 runs: {np.sum(d_acc_hist)/10}\")\n",
    "print(f\"Avg Custom Acc after 10 runs: {np.sum(c_acc_hist)/10}\")"
   ]
  },
  {
   "cell_type": "code",
   "execution_count": 4,
   "metadata": {},
   "outputs": [
    {
     "name": "stderr",
     "output_type": "stream",
     "text": [
      "Train model: 100%|██████████| 50/50 [00:17<00:00,  2.80it/s]\n",
      "Train model: 100%|██████████| 50/50 [00:18<00:00,  2.67it/s]\n"
     ]
    },
    {
     "name": "stdout",
     "output_type": "stream",
     "text": [
      "Accuracy default: 97.25%\n",
      "Accuracy custom: 98.0%\n"
     ]
    },
    {
     "name": "stderr",
     "output_type": "stream",
     "text": [
      "Train model: 100%|██████████| 50/50 [00:18<00:00,  2.70it/s]\n",
      "Train model: 100%|██████████| 50/50 [00:18<00:00,  2.64it/s]\n"
     ]
    },
    {
     "name": "stdout",
     "output_type": "stream",
     "text": [
      "Accuracy default: 98.5%\n",
      "Accuracy custom: 97.0%\n"
     ]
    },
    {
     "name": "stderr",
     "output_type": "stream",
     "text": [
      "Train model: 100%|██████████| 50/50 [00:18<00:00,  2.68it/s]\n",
      "Train model: 100%|██████████| 50/50 [00:19<00:00,  2.55it/s]\n"
     ]
    },
    {
     "name": "stdout",
     "output_type": "stream",
     "text": [
      "Accuracy default: 99.5%\n",
      "Accuracy custom: 98.0%\n"
     ]
    },
    {
     "name": "stderr",
     "output_type": "stream",
     "text": [
      "Train model: 100%|██████████| 50/50 [00:19<00:00,  2.59it/s]\n",
      "Train model: 100%|██████████| 50/50 [00:22<00:00,  2.24it/s]\n"
     ]
    },
    {
     "name": "stdout",
     "output_type": "stream",
     "text": [
      "Accuracy default: 98.0%\n",
      "Accuracy custom: 97.5%\n"
     ]
    },
    {
     "name": "stderr",
     "output_type": "stream",
     "text": [
      "Train model: 100%|██████████| 50/50 [00:21<00:00,  2.32it/s]\n",
      "Train model: 100%|██████████| 50/50 [00:22<00:00,  2.22it/s]\n"
     ]
    },
    {
     "name": "stdout",
     "output_type": "stream",
     "text": [
      "Accuracy default: 98.5%\n",
      "Accuracy custom: 97.75%\n"
     ]
    },
    {
     "name": "stderr",
     "output_type": "stream",
     "text": [
      "Train model: 100%|██████████| 50/50 [00:21<00:00,  2.29it/s]\n",
      "Train model: 100%|██████████| 50/50 [00:21<00:00,  2.28it/s]\n"
     ]
    },
    {
     "name": "stdout",
     "output_type": "stream",
     "text": [
      "Accuracy default: 98.25%\n",
      "Accuracy custom: 98.25%\n"
     ]
    },
    {
     "name": "stderr",
     "output_type": "stream",
     "text": [
      "Train model: 100%|██████████| 50/50 [00:21<00:00,  2.29it/s]\n",
      "Train model: 100%|██████████| 50/50 [00:22<00:00,  2.24it/s]\n"
     ]
    },
    {
     "name": "stdout",
     "output_type": "stream",
     "text": [
      "Accuracy default: 98.25%\n",
      "Accuracy custom: 98.0%\n"
     ]
    },
    {
     "name": "stderr",
     "output_type": "stream",
     "text": [
      "Train model: 100%|██████████| 50/50 [00:22<00:00,  2.27it/s]\n",
      "Train model: 100%|██████████| 50/50 [00:22<00:00,  2.24it/s]\n"
     ]
    },
    {
     "name": "stdout",
     "output_type": "stream",
     "text": [
      "Accuracy default: 97.75%\n",
      "Accuracy custom: 97.0%\n"
     ]
    },
    {
     "name": "stderr",
     "output_type": "stream",
     "text": [
      "Train model: 100%|██████████| 50/50 [00:21<00:00,  2.28it/s]\n",
      "Train model: 100%|██████████| 50/50 [00:22<00:00,  2.21it/s]\n"
     ]
    },
    {
     "name": "stdout",
     "output_type": "stream",
     "text": [
      "Accuracy default: 98.75%\n",
      "Accuracy custom: 97.5%\n"
     ]
    },
    {
     "name": "stderr",
     "output_type": "stream",
     "text": [
      "Train model: 100%|██████████| 50/50 [00:22<00:00,  2.27it/s]\n",
      "Train model: 100%|██████████| 50/50 [00:22<00:00,  2.27it/s]"
     ]
    },
    {
     "name": "stdout",
     "output_type": "stream",
     "text": [
      "Accuracy default: 99.5%\n",
      "Accuracy custom: 98.25%\n",
      "Avg Default Acc after 10 runs: 0.98425\n",
      "Avg Custom Acc after 10 runs: 0.9772500000000001\n"
     ]
    },
    {
     "name": "stderr",
     "output_type": "stream",
     "text": [
      "\n"
     ]
    }
   ],
   "source": [
    "epochs = 50\n",
    "d_acc_hist = []\n",
    "c_acc_hist = []\n",
    "\n",
    "for i in range(10):\n",
    "    d_acc, c_acc = test_1(data, labels, noise, bs, epochs, lr, [prewitt_x, prewitt_y], title=\"Prewitt\", return_acc=True, plot=False)\n",
    "    d_acc_hist.append(d_acc)\n",
    "    c_acc_hist.append(c_acc)\n",
    "\n",
    "print(f\"Avg Default Acc after 10 runs: {np.sum(d_acc_hist)/10}\")\n",
    "print(f\"Avg Custom Acc after 10 runs: {np.sum(c_acc_hist)/10}\")"
   ]
  },
  {
   "cell_type": "code",
   "execution_count": 9,
   "metadata": {},
   "outputs": [
    {
     "name": "stderr",
     "output_type": "stream",
     "text": [
      "Train model: 100%|██████████| 50/50 [00:18<00:00,  2.65it/s]\n",
      "Train model: 100%|██████████| 50/50 [00:20<00:00,  2.48it/s]\n"
     ]
    },
    {
     "data": {
      "image/png": "[encoded data removed]",
      "text/plain": [
       "<Figure size 800x500 with 1 Axes>"
      ]
     },
     "metadata": {},
     "output_type": "display_data"
    },
    {
     "name": "stdout",
     "output_type": "stream",
     "text": [
      "Accuracy default: 96.25%\n",
      "Accuracy custom: 98.0%\n"
     ]
    }
   ],
   "source": [
    "test_1(data, labels, noise, bs, epochs, lr, [prewitt_x, prewitt_y], title=\"Prewitt\", return_acc=False, plot=True)"
   ]
  },
  {
   "cell_type": "code",
   "execution_count": 4,
   "metadata": {},
   "outputs": [
    {
     "name": "stderr",
     "output_type": "stream",
     "text": [
      "Train model: 100%|██████████| 50/50 [00:18<00:00,  2.64it/s]\n",
      "Train model: 100%|██████████| 50/50 [00:22<00:00,  2.23it/s]\n"
     ]
    },
    {
     "name": "stdout",
     "output_type": "stream",
     "text": [
      "Accuracy default: 96.5%\n",
      "Accuracy custom: 97.5%\n"
     ]
    },
    {
     "name": "stderr",
     "output_type": "stream",
     "text": [
      "Train model: 100%|██████████| 50/50 [00:22<00:00,  2.25it/s]\n",
      "Train model: 100%|██████████| 50/50 [00:24<00:00,  2.05it/s]\n"
     ]
    },
    {
     "name": "stdout",
     "output_type": "stream",
     "text": [
      "Accuracy default: 98.5%\n",
      "Accuracy custom: 97.5%\n"
     ]
    },
    {
     "name": "stderr",
     "output_type": "stream",
     "text": [
      "Train model: 100%|██████████| 50/50 [00:23<00:00,  2.14it/s]\n",
      "Train model: 100%|██████████| 50/50 [00:24<00:00,  2.06it/s]\n"
     ]
    },
    {
     "name": "stdout",
     "output_type": "stream",
     "text": [
      "Accuracy default: 96.75%\n",
      "Accuracy custom: 98.75%\n"
     ]
    },
    {
     "name": "stderr",
     "output_type": "stream",
     "text": [
      "Train model: 100%|██████████| 50/50 [00:23<00:00,  2.17it/s]\n",
      "Train model: 100%|██████████| 50/50 [00:23<00:00,  2.09it/s]\n"
     ]
    },
    {
     "name": "stdout",
     "output_type": "stream",
     "text": [
      "Accuracy default: 96.0%\n",
      "Accuracy custom: 98.25%\n"
     ]
    },
    {
     "name": "stderr",
     "output_type": "stream",
     "text": [
      "Train model: 100%|██████████| 50/50 [00:23<00:00,  2.11it/s]\n",
      "Train model: 100%|██████████| 50/50 [00:25<00:00,  1.99it/s]\n"
     ]
    },
    {
     "name": "stdout",
     "output_type": "stream",
     "text": [
      "Accuracy default: 96.75%\n",
      "Accuracy custom: 98.25%\n"
     ]
    },
    {
     "name": "stderr",
     "output_type": "stream",
     "text": [
      "Train model: 100%|██████████| 50/50 [00:24<00:00,  2.08it/s]\n",
      "Train model: 100%|██████████| 50/50 [00:22<00:00,  2.19it/s]\n"
     ]
    },
    {
     "name": "stdout",
     "output_type": "stream",
     "text": [
      "Accuracy default: 97.75%\n",
      "Accuracy custom: 97.25%\n"
     ]
    },
    {
     "name": "stderr",
     "output_type": "stream",
     "text": [
      "Train model: 100%|██████████| 50/50 [00:22<00:00,  2.25it/s]\n",
      "Train model: 100%|██████████| 50/50 [00:23<00:00,  2.09it/s]\n"
     ]
    },
    {
     "name": "stdout",
     "output_type": "stream",
     "text": [
      "Accuracy default: 99.25%\n",
      "Accuracy custom: 98.75%\n"
     ]
    },
    {
     "name": "stderr",
     "output_type": "stream",
     "text": [
      "Train model: 100%|██████████| 50/50 [00:24<00:00,  2.03it/s]\n",
      "Train model: 100%|██████████| 50/50 [00:25<00:00,  1.97it/s]\n"
     ]
    },
    {
     "name": "stdout",
     "output_type": "stream",
     "text": [
      "Accuracy default: 97.0%\n",
      "Accuracy custom: 97.75%\n"
     ]
    },
    {
     "name": "stderr",
     "output_type": "stream",
     "text": [
      "Train model: 100%|██████████| 50/50 [00:23<00:00,  2.10it/s]\n",
      "Train model: 100%|██████████| 50/50 [00:24<00:00,  2.01it/s]\n"
     ]
    },
    {
     "name": "stdout",
     "output_type": "stream",
     "text": [
      "Accuracy default: 98.75%\n",
      "Accuracy custom: 99.5%\n"
     ]
    },
    {
     "name": "stderr",
     "output_type": "stream",
     "text": [
      "Train model: 100%|██████████| 50/50 [00:23<00:00,  2.15it/s]\n",
      "Train model: 100%|██████████| 50/50 [00:25<00:00,  1.97it/s]"
     ]
    },
    {
     "name": "stdout",
     "output_type": "stream",
     "text": [
      "Accuracy default: 97.25%\n",
      "Accuracy custom: 98.0%\n",
      "Avg Default Acc after 10 runs: 0.9745000000000001\n",
      "Avg Custom Acc after 10 runs: 0.9814999999999999\n"
     ]
    },
    {
     "name": "stderr",
     "output_type": "stream",
     "text": [
      "\n"
     ]
    }
   ],
   "source": [
    "epochs = 50\n",
    "d_acc_hist = []\n",
    "c_acc_hist = []\n",
    "\n",
    "for i in range(10):\n",
    "    d_acc, c_acc = test_2(data, labels, noise, bs, epochs, lr, [prewitt_x, prewitt_y], title=\"Prewitt\", return_acc=True, plot=False)\n",
    "    d_acc_hist.append(d_acc)\n",
    "    c_acc_hist.append(c_acc)\n",
    "\n",
    "print(f\"Avg Default Acc after 10 runs: {np.sum(d_acc_hist)/10}\")\n",
    "print(f\"Avg Custom Acc after 10 runs: {np.sum(c_acc_hist)/10}\")"
   ]
  },
  {
   "cell_type": "code",
   "execution_count": 5,
   "metadata": {},
   "outputs": [
    {
     "name": "stderr",
     "output_type": "stream",
     "text": [
      "Train model: 100%|██████████| 100/100 [00:36<00:00,  2.73it/s]\n",
      "Train model: 100%|██████████| 100/100 [00:38<00:00,  2.62it/s]\n"
     ]
    },
    {
     "data": {
      "image/png": "[encoded data removed]",
      "text/plain": [
       "<Figure size 800x500 with 1 Axes>"
      ]
     },
     "metadata": {},
     "output_type": "display_data"
    },
    {
     "name": "stdout",
     "output_type": "stream",
     "text": [
      "Accuracy default: 99.0%\n",
      "Accuracy custom: 98.5%\n"
     ]
    }
   ],
   "source": [
    "epochs = 100\n",
    "test_1(data, labels, noise, bs, epochs, lr, [prewitt_x, prewitt_y], title=\"Prewitt\")"
   ]
  },
  {
   "cell_type": "markdown",
   "metadata": {},
   "source": [
    "### Pulsar, Non-Pulsar, BBRFI and NBRFI Dataset"
   ]
  },
  {
   "cell_type": "code",
   "execution_count": 5,
   "metadata": {},
   "outputs": [],
   "source": [
    "dataset = np.load(\"../data/32x32_ml_ppa_data_multi.npz\")\n",
    "labels = dataset[\"labels\"]\n",
    "data = dataset[\"data\"]\n",
    "noise = 40\n",
    "\n",
    "bs = 16\n",
    "lr = 0.001"
   ]
  },
  {
   "cell_type": "code",
   "execution_count": 6,
   "metadata": {},
   "outputs": [],
   "source": [
    "prewitt_x = prewitt_filter(\"x\")\n",
    "prewitt_y = prewitt_filter(\"y\")"
   ]
  },
  {
   "cell_type": "code",
   "execution_count": 7,
   "metadata": {},
   "outputs": [
    {
     "name": "stderr",
     "output_type": "stream",
     "text": [
      "Train model: 100%|██████████| 50/50 [00:15<00:00,  3.22it/s]\n",
      "Train model: 100%|██████████| 50/50 [00:17<00:00,  2.89it/s]\n"
     ]
    },
    {
     "name": "stdout",
     "output_type": "stream",
     "text": [
      "Accuracy default: 97.25%\n",
      "Accuracy custom: 97.0%\n"
     ]
    },
    {
     "name": "stderr",
     "output_type": "stream",
     "text": [
      "Train model: 100%|██████████| 50/50 [00:18<00:00,  2.71it/s]\n",
      "Train model: 100%|██████████| 50/50 [00:17<00:00,  2.78it/s]\n"
     ]
    },
    {
     "name": "stdout",
     "output_type": "stream",
     "text": [
      "Accuracy default: 97.5%\n",
      "Accuracy custom: 95.75%\n"
     ]
    },
    {
     "name": "stderr",
     "output_type": "stream",
     "text": [
      "Train model: 100%|██████████| 50/50 [00:19<00:00,  2.56it/s]\n",
      "Train model: 100%|██████████| 50/50 [00:23<00:00,  2.17it/s]\n"
     ]
    },
    {
     "name": "stdout",
     "output_type": "stream",
     "text": [
      "Accuracy default: 97.75%\n",
      "Accuracy custom: 97.25%\n"
     ]
    },
    {
     "name": "stderr",
     "output_type": "stream",
     "text": [
      "Train model: 100%|██████████| 50/50 [00:24<00:00,  2.00it/s]\n",
      "Train model: 100%|██████████| 50/50 [00:25<00:00,  1.94it/s]\n"
     ]
    },
    {
     "name": "stdout",
     "output_type": "stream",
     "text": [
      "Accuracy default: 96.75%\n",
      "Accuracy custom: 95.75%\n"
     ]
    },
    {
     "name": "stderr",
     "output_type": "stream",
     "text": [
      "Train model: 100%|██████████| 50/50 [00:25<00:00,  1.95it/s]\n",
      "Train model: 100%|██████████| 50/50 [00:25<00:00,  1.93it/s]\n"
     ]
    },
    {
     "name": "stdout",
     "output_type": "stream",
     "text": [
      "Accuracy default: 98.25%\n",
      "Accuracy custom: 96.0%\n"
     ]
    },
    {
     "name": "stderr",
     "output_type": "stream",
     "text": [
      "Train model: 100%|██████████| 50/50 [00:24<00:00,  2.01it/s]\n",
      "Train model: 100%|██████████| 50/50 [00:25<00:00,  1.94it/s]\n"
     ]
    },
    {
     "name": "stdout",
     "output_type": "stream",
     "text": [
      "Accuracy default: 96.5%\n",
      "Accuracy custom: 98.75%\n"
     ]
    },
    {
     "name": "stderr",
     "output_type": "stream",
     "text": [
      "Train model: 100%|██████████| 50/50 [00:25<00:00,  1.99it/s]\n",
      "Train model: 100%|██████████| 50/50 [00:26<00:00,  1.89it/s]\n"
     ]
    },
    {
     "name": "stdout",
     "output_type": "stream",
     "text": [
      "Accuracy default: 96.75%\n",
      "Accuracy custom: 98.75%\n"
     ]
    },
    {
     "name": "stderr",
     "output_type": "stream",
     "text": [
      "Train model: 100%|██████████| 50/50 [00:24<00:00,  2.01it/s]\n",
      "Train model: 100%|██████████| 50/50 [00:25<00:00,  1.93it/s]\n"
     ]
    },
    {
     "name": "stdout",
     "output_type": "stream",
     "text": [
      "Accuracy default: 97.25%\n",
      "Accuracy custom: 98.5%\n"
     ]
    },
    {
     "name": "stderr",
     "output_type": "stream",
     "text": [
      "Train model: 100%|██████████| 50/50 [00:24<00:00,  2.01it/s]\n",
      "Train model: 100%|██████████| 50/50 [00:25<00:00,  1.93it/s]\n"
     ]
    },
    {
     "name": "stdout",
     "output_type": "stream",
     "text": [
      "Accuracy default: 98.0%\n",
      "Accuracy custom: 97.25%\n"
     ]
    },
    {
     "name": "stderr",
     "output_type": "stream",
     "text": [
      "Train model: 100%|██████████| 50/50 [00:25<00:00,  2.00it/s]\n",
      "Train model: 100%|██████████| 50/50 [00:26<00:00,  1.90it/s]"
     ]
    },
    {
     "name": "stdout",
     "output_type": "stream",
     "text": [
      "Accuracy default: 97.75%\n",
      "Accuracy custom: 98.0%\n",
      "Avg Default Acc after 10 runs: 0.9737500000000001\n",
      "Avg Custom Acc after 10 runs: 0.9730000000000001\n"
     ]
    },
    {
     "name": "stderr",
     "output_type": "stream",
     "text": [
      "\n"
     ]
    }
   ],
   "source": [
    "epochs = 50\n",
    "d_acc_hist = []\n",
    "c_acc_hist = []\n",
    "\n",
    "for i in range(10):\n",
    "    d_acc, c_acc = test_1(data, labels, noise, bs, epochs, lr, [prewitt_x, prewitt_y], title=\"Prewitt\", return_acc=True, plot=False)\n",
    "    d_acc_hist.append(d_acc)\n",
    "    c_acc_hist.append(c_acc)\n",
    "\n",
    "print(f\"Avg Default Acc after 10 runs: {np.sum(d_acc_hist)/10}\")\n",
    "print(f\"Avg Custom Acc after 10 runs: {np.sum(c_acc_hist)/10}\")"
   ]
  },
  {
   "cell_type": "code",
   "execution_count": 8,
   "metadata": {},
   "outputs": [
    {
     "name": "stderr",
     "output_type": "stream",
     "text": [
      "Train model:   0%|          | 0/50 [00:00<?, ?it/s]"
     ]
    },
    {
     "name": "stderr",
     "output_type": "stream",
     "text": [
      "Train model: 100%|██████████| 50/50 [00:24<00:00,  2.01it/s]\n",
      "Train model: 100%|██████████| 50/50 [00:26<00:00,  1.89it/s]\n"
     ]
    },
    {
     "name": "stdout",
     "output_type": "stream",
     "text": [
      "Accuracy default: 97.0%\n",
      "Accuracy custom: 96.5%\n"
     ]
    },
    {
     "name": "stderr",
     "output_type": "stream",
     "text": [
      "Train model: 100%|██████████| 50/50 [00:24<00:00,  2.03it/s]\n",
      "Train model: 100%|██████████| 50/50 [00:26<00:00,  1.89it/s]\n"
     ]
    },
    {
     "name": "stdout",
     "output_type": "stream",
     "text": [
      "Accuracy default: 97.25%\n",
      "Accuracy custom: 97.25%\n"
     ]
    },
    {
     "name": "stderr",
     "output_type": "stream",
     "text": [
      "Train model: 100%|██████████| 50/50 [00:24<00:00,  2.03it/s]\n",
      "Train model: 100%|██████████| 50/50 [00:26<00:00,  1.90it/s]\n"
     ]
    },
    {
     "name": "stdout",
     "output_type": "stream",
     "text": [
      "Accuracy default: 98.0%\n",
      "Accuracy custom: 98.0%\n"
     ]
    },
    {
     "name": "stderr",
     "output_type": "stream",
     "text": [
      "Train model: 100%|██████████| 50/50 [00:25<00:00,  1.96it/s]\n",
      "Train model: 100%|██████████| 50/50 [00:26<00:00,  1.86it/s]\n"
     ]
    },
    {
     "name": "stdout",
     "output_type": "stream",
     "text": [
      "Accuracy default: 98.0%\n",
      "Accuracy custom: 97.0%\n"
     ]
    },
    {
     "name": "stderr",
     "output_type": "stream",
     "text": [
      "Train model: 100%|██████████| 50/50 [00:25<00:00,  1.98it/s]\n",
      "Train model: 100%|██████████| 50/50 [00:26<00:00,  1.87it/s]\n"
     ]
    },
    {
     "name": "stdout",
     "output_type": "stream",
     "text": [
      "Accuracy default: 96.75%\n",
      "Accuracy custom: 97.5%\n"
     ]
    },
    {
     "name": "stderr",
     "output_type": "stream",
     "text": [
      "Train model: 100%|██████████| 50/50 [00:25<00:00,  1.96it/s]\n",
      "Train model: 100%|██████████| 50/50 [00:26<00:00,  1.87it/s]\n"
     ]
    },
    {
     "name": "stdout",
     "output_type": "stream",
     "text": [
      "Accuracy default: 97.5%\n",
      "Accuracy custom: 97.75%\n"
     ]
    },
    {
     "name": "stderr",
     "output_type": "stream",
     "text": [
      "Train model: 100%|██████████| 50/50 [00:25<00:00,  1.96it/s]\n",
      "Train model: 100%|██████████| 50/50 [00:26<00:00,  1.86it/s]\n"
     ]
    },
    {
     "name": "stdout",
     "output_type": "stream",
     "text": [
      "Accuracy default: 98.0%\n",
      "Accuracy custom: 99.0%\n"
     ]
    },
    {
     "name": "stderr",
     "output_type": "stream",
     "text": [
      "Train model: 100%|██████████| 50/50 [00:25<00:00,  1.96it/s]\n",
      "Train model: 100%|██████████| 50/50 [00:26<00:00,  1.87it/s]\n"
     ]
    },
    {
     "name": "stdout",
     "output_type": "stream",
     "text": [
      "Accuracy default: 97.5%\n",
      "Accuracy custom: 98.75%\n"
     ]
    },
    {
     "name": "stderr",
     "output_type": "stream",
     "text": [
      "Train model: 100%|██████████| 50/50 [00:25<00:00,  1.94it/s]\n",
      "Train model: 100%|██████████| 50/50 [00:27<00:00,  1.84it/s]\n"
     ]
    },
    {
     "name": "stdout",
     "output_type": "stream",
     "text": [
      "Accuracy default: 97.75%\n",
      "Accuracy custom: 97.5%\n"
     ]
    },
    {
     "name": "stderr",
     "output_type": "stream",
     "text": [
      "Train model: 100%|██████████| 50/50 [00:25<00:00,  1.95it/s]\n",
      "Train model: 100%|██████████| 50/50 [00:27<00:00,  1.84it/s]"
     ]
    },
    {
     "name": "stdout",
     "output_type": "stream",
     "text": [
      "Accuracy default: 98.25%\n",
      "Accuracy custom: 97.75%\n",
      "Avg Default Acc after 10 runs: 0.976\n",
      "Avg Custom Acc after 10 runs: 0.977\n"
     ]
    },
    {
     "name": "stderr",
     "output_type": "stream",
     "text": [
      "\n"
     ]
    }
   ],
   "source": [
    "epochs = 50\n",
    "d_acc_hist = []\n",
    "c_acc_hist = []\n",
    "\n",
    "for i in range(10):\n",
    "    d_acc, c_acc = test_2(data, labels, noise, bs, epochs, lr, [prewitt_x, prewitt_y], title=\"Prewitt\", return_acc=True, plot=False)\n",
    "    d_acc_hist.append(d_acc)\n",
    "    c_acc_hist.append(c_acc)\n",
    "\n",
    "print(f\"Avg Default Acc after 10 runs: {np.sum(d_acc_hist)/10}\")\n",
    "print(f\"Avg Custom Acc after 10 runs: {np.sum(c_acc_hist)/10}\")"
   ]
  }
 ],
 "metadata": {
  "kernelspec": {
   "display_name": "Python 3",
   "language": "python",
   "name": "python3"
  },
  "language_info": {
   "codemirror_mode": {
    "name": "ipython",
    "version": 3
   },
   "file_extension": ".py",
   "mimetype": "text/x-python",
   "name": "python",
   "nbconvert_exporter": "python",
   "pygments_lexer": "ipython3",
   "version": "3.12.0"
  }
 },
 "nbformat": 4,
 "nbformat_minor": 2
}
