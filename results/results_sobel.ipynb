{
 "cells": [
  {
   "cell_type": "markdown",
   "metadata": {},
   "source": [
    "# Test results on Sobel Filters\n",
    "This file contains the results of applying the Sobel Filters as custom filters for training on pulsar data.\n",
    "\n",
    "To see what applying the filter on an image looks like please go to `visualization/filter_visualization.ipynb`"
   ]
  },
  {
   "cell_type": "code",
   "execution_count": 1,
   "metadata": {},
   "outputs": [],
   "source": [
    "import sys\n",
    "import os\n",
    "\n",
    "# Annahme: Das Skript wird im results-Ordner ausgeführt\n",
    "current_dir = os.getcwd()\n",
    "\n",
    "# Pfad zum src-Ordner zum Python-Pfad hinzufügen\n",
    "src_path = os.path.abspath(os.path.join(current_dir, '..', 'src'))\n",
    "sys.path.append(src_path)\n",
    "\n",
    "# Jetzt kannst du die Module direkt aus dem src-Ordner importieren\n",
    "import numpy as np\n",
    "from filter_testing import *\n",
    "from custom_filters import *"
   ]
  },
  {
   "cell_type": "markdown",
   "metadata": {},
   "source": [
    "### Pulsar and Non-Pulsar Datasaet"
   ]
  },
  {
   "cell_type": "code",
   "execution_count": 8,
   "metadata": {},
   "outputs": [],
   "source": [
    "dataset = np.load(\"../data/32x32_ml_ppa_data_binary.npz\")\n",
    "labels = dataset[\"labels\"]\n",
    "file = dataset.files[2]\n",
    "data = dataset[file]\n",
    "noise = int(file.split(\"_\")[1])\n",
    "\n",
    "bs = 16\n",
    "lr = 0.001"
   ]
  },
  {
   "cell_type": "code",
   "execution_count": 3,
   "metadata": {},
   "outputs": [],
   "source": [
    "sobel_x = sobel_filter(\"x\")\n",
    "sobel_y = sobel_filter(\"y\")"
   ]
  },
  {
   "cell_type": "code",
   "execution_count": 9,
   "metadata": {},
   "outputs": [
    {
     "name": "stderr",
     "output_type": "stream",
     "text": [
      "Train model: 100%|██████████| 50/50 [00:20<00:00,  2.44it/s]\n",
      "Train model: 100%|██████████| 50/50 [00:17<00:00,  2.79it/s]\n"
     ]
    },
    {
     "name": "stdout",
     "output_type": "stream",
     "text": [
      "Accuracy default: 99.0%\n",
      "Accuracy custom: 93.5%\n"
     ]
    },
    {
     "name": "stderr",
     "output_type": "stream",
     "text": [
      "Train model: 100%|██████████| 50/50 [00:13<00:00,  3.61it/s]\n",
      "Train model: 100%|██████████| 50/50 [00:15<00:00,  3.19it/s]\n"
     ]
    },
    {
     "name": "stdout",
     "output_type": "stream",
     "text": [
      "Accuracy default: 97.5%\n",
      "Accuracy custom: 93.75%\n"
     ]
    },
    {
     "name": "stderr",
     "output_type": "stream",
     "text": [
      "Train model: 100%|██████████| 50/50 [00:13<00:00,  3.73it/s]\n",
      "Train model: 100%|██████████| 50/50 [00:14<00:00,  3.44it/s]\n"
     ]
    },
    {
     "name": "stdout",
     "output_type": "stream",
     "text": [
      "Accuracy default: 99.0%\n",
      "Accuracy custom: 93.0%\n"
     ]
    },
    {
     "name": "stderr",
     "output_type": "stream",
     "text": [
      "Train model: 100%|██████████| 50/50 [00:13<00:00,  3.70it/s]\n",
      "Train model: 100%|██████████| 50/50 [00:14<00:00,  3.36it/s]\n"
     ]
    },
    {
     "name": "stdout",
     "output_type": "stream",
     "text": [
      "Accuracy default: 97.5%\n",
      "Accuracy custom: 92.25%\n"
     ]
    },
    {
     "name": "stderr",
     "output_type": "stream",
     "text": [
      "Train model: 100%|██████████| 50/50 [00:13<00:00,  3.78it/s]\n",
      "Train model: 100%|██████████| 50/50 [00:13<00:00,  3.64it/s]\n"
     ]
    },
    {
     "name": "stdout",
     "output_type": "stream",
     "text": [
      "Accuracy default: 98.75%\n",
      "Accuracy custom: 92.0%\n"
     ]
    },
    {
     "name": "stderr",
     "output_type": "stream",
     "text": [
      "Train model: 100%|██████████| 50/50 [00:13<00:00,  3.66it/s]\n",
      "Train model: 100%|██████████| 50/50 [00:13<00:00,  3.66it/s]\n"
     ]
    },
    {
     "name": "stdout",
     "output_type": "stream",
     "text": [
      "Accuracy default: 97.5%\n",
      "Accuracy custom: 92.75%\n"
     ]
    },
    {
     "name": "stderr",
     "output_type": "stream",
     "text": [
      "Train model: 100%|██████████| 50/50 [00:13<00:00,  3.60it/s]\n",
      "Train model: 100%|██████████| 50/50 [00:13<00:00,  3.62it/s]\n"
     ]
    },
    {
     "name": "stdout",
     "output_type": "stream",
     "text": [
      "Accuracy default: 98.75%\n",
      "Accuracy custom: 91.5%\n"
     ]
    },
    {
     "name": "stderr",
     "output_type": "stream",
     "text": [
      "Train model: 100%|██████████| 50/50 [00:13<00:00,  3.60it/s]\n",
      "Train model: 100%|██████████| 50/50 [00:14<00:00,  3.40it/s]\n"
     ]
    },
    {
     "name": "stdout",
     "output_type": "stream",
     "text": [
      "Accuracy default: 99.25%\n",
      "Accuracy custom: 90.75%\n"
     ]
    },
    {
     "name": "stderr",
     "output_type": "stream",
     "text": [
      "Train model: 100%|██████████| 50/50 [00:13<00:00,  3.66it/s]\n",
      "Train model: 100%|██████████| 50/50 [00:17<00:00,  2.83it/s]\n"
     ]
    },
    {
     "name": "stdout",
     "output_type": "stream",
     "text": [
      "Accuracy default: 99.0%\n",
      "Accuracy custom: 92.5%\n"
     ]
    },
    {
     "name": "stderr",
     "output_type": "stream",
     "text": [
      "Train model: 100%|██████████| 50/50 [00:14<00:00,  3.44it/s]\n",
      "Train model: 100%|██████████| 50/50 [00:13<00:00,  3.64it/s]"
     ]
    },
    {
     "name": "stdout",
     "output_type": "stream",
     "text": [
      "Accuracy default: 98.75%\n",
      "Accuracy custom: 93.0%\n",
      "Avg Default Acc after 10 runs: 0.985\n",
      "Avg Custom Acc after 10 runs: 0.925\n"
     ]
    },
    {
     "name": "stderr",
     "output_type": "stream",
     "text": [
      "\n"
     ]
    }
   ],
   "source": [
    "epochs = 50\n",
    "d_acc_hist = []\n",
    "c_acc_hist = []\n",
    "\n",
    "for i in range(10):\n",
    "    d_acc, c_acc = test_1(data, labels, noise, bs, epochs, lr, [sobel_x], title=\"Sobel\", return_acc=True, plot=False)\n",
    "    d_acc_hist.append(d_acc)\n",
    "    c_acc_hist.append(c_acc)\n",
    "\n",
    "print(f\"Avg Default Acc after 10 runs: {np.sum(d_acc_hist)/10}\")\n",
    "print(f\"Avg Custom Acc after 10 runs: {np.sum(c_acc_hist)/10}\")"
   ]
  },
  {
   "cell_type": "code",
   "execution_count": 13,
   "metadata": {},
   "outputs": [
    {
     "name": "stderr",
     "output_type": "stream",
     "text": [
      "Train model:   0%|          | 0/50 [00:00<?, ?it/s]"
     ]
    },
    {
     "name": "stderr",
     "output_type": "stream",
     "text": [
      "Train model: 100%|██████████| 50/50 [00:18<00:00,  2.71it/s]\n",
      "Train model: 100%|██████████| 50/50 [00:19<00:00,  2.60it/s]\n"
     ]
    },
    {
     "name": "stdout",
     "output_type": "stream",
     "text": [
      "Accuracy default: 98.75%\n",
      "Accuracy custom: 95.25%\n"
     ]
    },
    {
     "name": "stderr",
     "output_type": "stream",
     "text": [
      "Train model: 100%|██████████| 50/50 [00:18<00:00,  2.65it/s]\n",
      "Train model: 100%|██████████| 50/50 [00:19<00:00,  2.60it/s]\n"
     ]
    },
    {
     "name": "stdout",
     "output_type": "stream",
     "text": [
      "Accuracy default: 97.25%\n",
      "Accuracy custom: 97.25%\n"
     ]
    },
    {
     "name": "stderr",
     "output_type": "stream",
     "text": [
      "Train model: 100%|██████████| 50/50 [00:17<00:00,  2.87it/s]\n",
      "Train model: 100%|██████████| 50/50 [00:17<00:00,  2.84it/s]\n"
     ]
    },
    {
     "name": "stdout",
     "output_type": "stream",
     "text": [
      "Accuracy default: 96.25%\n",
      "Accuracy custom: 97.5%\n"
     ]
    },
    {
     "name": "stderr",
     "output_type": "stream",
     "text": [
      "Train model: 100%|██████████| 50/50 [00:17<00:00,  2.90it/s]\n",
      "Train model: 100%|██████████| 50/50 [00:17<00:00,  2.86it/s]\n"
     ]
    },
    {
     "name": "stdout",
     "output_type": "stream",
     "text": [
      "Accuracy default: 98.25%\n",
      "Accuracy custom: 96.25%\n"
     ]
    },
    {
     "name": "stderr",
     "output_type": "stream",
     "text": [
      "Train model: 100%|██████████| 50/50 [00:16<00:00,  2.99it/s]\n",
      "Train model: 100%|██████████| 50/50 [00:18<00:00,  2.76it/s]\n"
     ]
    },
    {
     "name": "stdout",
     "output_type": "stream",
     "text": [
      "Accuracy default: 95.25%\n",
      "Accuracy custom: 96.5%\n"
     ]
    },
    {
     "name": "stderr",
     "output_type": "stream",
     "text": [
      "Train model: 100%|██████████| 50/50 [00:17<00:00,  2.86it/s]\n",
      "Train model: 100%|██████████| 50/50 [00:18<00:00,  2.77it/s]\n"
     ]
    },
    {
     "name": "stdout",
     "output_type": "stream",
     "text": [
      "Accuracy default: 97.25%\n",
      "Accuracy custom: 97.5%\n"
     ]
    },
    {
     "name": "stderr",
     "output_type": "stream",
     "text": [
      "Train model: 100%|██████████| 50/50 [00:17<00:00,  2.81it/s]\n",
      "Train model: 100%|██████████| 50/50 [00:17<00:00,  2.83it/s]\n"
     ]
    },
    {
     "name": "stdout",
     "output_type": "stream",
     "text": [
      "Accuracy default: 98.0%\n",
      "Accuracy custom: 97.5%\n"
     ]
    },
    {
     "name": "stderr",
     "output_type": "stream",
     "text": [
      "Train model: 100%|██████████| 50/50 [00:17<00:00,  2.88it/s]\n",
      "Train model: 100%|██████████| 50/50 [00:17<00:00,  2.79it/s]\n"
     ]
    },
    {
     "name": "stdout",
     "output_type": "stream",
     "text": [
      "Accuracy default: 98.0%\n",
      "Accuracy custom: 97.0%\n"
     ]
    },
    {
     "name": "stderr",
     "output_type": "stream",
     "text": [
      "Train model: 100%|██████████| 50/50 [00:17<00:00,  2.83it/s]\n",
      "Train model: 100%|██████████| 50/50 [00:18<00:00,  2.76it/s]\n"
     ]
    },
    {
     "name": "stdout",
     "output_type": "stream",
     "text": [
      "Accuracy default: 96.5%\n",
      "Accuracy custom: 97.5%\n"
     ]
    },
    {
     "name": "stderr",
     "output_type": "stream",
     "text": [
      "Train model: 100%|██████████| 50/50 [00:17<00:00,  2.89it/s]\n",
      "Train model: 100%|██████████| 50/50 [00:19<00:00,  2.57it/s]"
     ]
    },
    {
     "name": "stdout",
     "output_type": "stream",
     "text": [
      "Accuracy default: 96.75%\n",
      "Accuracy custom: 96.75%\n",
      "Avg Default Acc after 10 runs: 0.9722500000000001\n",
      "Avg Custom Acc after 10 runs: 0.969\n"
     ]
    },
    {
     "name": "stderr",
     "output_type": "stream",
     "text": [
      "\n"
     ]
    }
   ],
   "source": [
    "epochs = 50\n",
    "d_acc_hist = []\n",
    "c_acc_hist = []\n",
    "\n",
    "for i in range(10):\n",
    "    d_acc, c_acc = test_1(data, labels, noise, bs, epochs, lr, [sobel_y], title=\"Sobel\", return_acc=True, plot=False)\n",
    "    d_acc_hist.append(d_acc)\n",
    "    c_acc_hist.append(c_acc)\n",
    "\n",
    "print(f\"Avg Default Acc after 10 runs: {np.sum(d_acc_hist)/10}\")\n",
    "print(f\"Avg Custom Acc after 10 runs: {np.sum(c_acc_hist)/10}\")"
   ]
  },
  {
   "cell_type": "code",
   "execution_count": 9,
   "metadata": {},
   "outputs": [
    {
     "name": "stderr",
     "output_type": "stream",
     "text": [
      "Train model:   0%|          | 0/50 [00:00<?, ?it/s]"
     ]
    },
    {
     "name": "stderr",
     "output_type": "stream",
     "text": [
      "Train model: 100%|██████████| 50/50 [00:21<00:00,  2.35it/s]\n",
      "Train model: 100%|██████████| 50/50 [00:20<00:00,  2.46it/s]\n"
     ]
    },
    {
     "name": "stdout",
     "output_type": "stream",
     "text": [
      "Accuracy default: 97.75%\n",
      "Accuracy custom: 98.0%\n"
     ]
    },
    {
     "name": "stderr",
     "output_type": "stream",
     "text": [
      "Train model: 100%|██████████| 50/50 [00:20<00:00,  2.46it/s]\n",
      "Train model: 100%|██████████| 50/50 [00:20<00:00,  2.46it/s]\n"
     ]
    },
    {
     "name": "stdout",
     "output_type": "stream",
     "text": [
      "Accuracy default: 98.25%\n",
      "Accuracy custom: 97.0%\n"
     ]
    },
    {
     "name": "stderr",
     "output_type": "stream",
     "text": [
      "Train model: 100%|██████████| 50/50 [00:20<00:00,  2.42it/s]\n",
      "Train model: 100%|██████████| 50/50 [00:20<00:00,  2.40it/s]\n"
     ]
    },
    {
     "name": "stdout",
     "output_type": "stream",
     "text": [
      "Accuracy default: 96.25%\n",
      "Accuracy custom: 98.75%\n"
     ]
    },
    {
     "name": "stderr",
     "output_type": "stream",
     "text": [
      "Train model: 100%|██████████| 50/50 [00:19<00:00,  2.51it/s]\n",
      "Train model: 100%|██████████| 50/50 [00:21<00:00,  2.36it/s]\n"
     ]
    },
    {
     "name": "stdout",
     "output_type": "stream",
     "text": [
      "Accuracy default: 97.5%\n",
      "Accuracy custom: 97.75%\n"
     ]
    },
    {
     "name": "stderr",
     "output_type": "stream",
     "text": [
      "Train model: 100%|██████████| 50/50 [00:20<00:00,  2.50it/s]\n",
      "Train model: 100%|██████████| 50/50 [00:21<00:00,  2.31it/s]\n"
     ]
    },
    {
     "name": "stdout",
     "output_type": "stream",
     "text": [
      "Accuracy default: 99.75%\n",
      "Accuracy custom: 97.5%\n"
     ]
    },
    {
     "name": "stderr",
     "output_type": "stream",
     "text": [
      "Train model: 100%|██████████| 50/50 [00:20<00:00,  2.46it/s]\n",
      "Train model: 100%|██████████| 50/50 [00:20<00:00,  2.50it/s]\n"
     ]
    },
    {
     "name": "stdout",
     "output_type": "stream",
     "text": [
      "Accuracy default: 97.0%\n",
      "Accuracy custom: 96.75%\n"
     ]
    },
    {
     "name": "stderr",
     "output_type": "stream",
     "text": [
      "Train model: 100%|██████████| 50/50 [00:20<00:00,  2.48it/s]\n",
      "Train model: 100%|██████████| 50/50 [00:20<00:00,  2.44it/s]\n"
     ]
    },
    {
     "name": "stdout",
     "output_type": "stream",
     "text": [
      "Accuracy default: 96.5%\n",
      "Accuracy custom: 96.75%\n"
     ]
    },
    {
     "name": "stderr",
     "output_type": "stream",
     "text": [
      "Train model: 100%|██████████| 50/50 [00:20<00:00,  2.47it/s]\n",
      "Train model: 100%|██████████| 50/50 [00:21<00:00,  2.37it/s]\n"
     ]
    },
    {
     "name": "stdout",
     "output_type": "stream",
     "text": [
      "Accuracy default: 98.0%\n",
      "Accuracy custom: 96.75%\n"
     ]
    },
    {
     "name": "stderr",
     "output_type": "stream",
     "text": [
      "Train model: 100%|██████████| 50/50 [00:20<00:00,  2.48it/s]\n",
      "Train model: 100%|██████████| 50/50 [00:20<00:00,  2.43it/s]\n"
     ]
    },
    {
     "name": "stdout",
     "output_type": "stream",
     "text": [
      "Accuracy default: 99.0%\n",
      "Accuracy custom: 97.25%\n"
     ]
    },
    {
     "name": "stderr",
     "output_type": "stream",
     "text": [
      "Train model: 100%|██████████| 50/50 [00:20<00:00,  2.50it/s]\n",
      "Train model: 100%|██████████| 50/50 [00:22<00:00,  2.25it/s]"
     ]
    },
    {
     "name": "stdout",
     "output_type": "stream",
     "text": [
      "Accuracy default: 99.25%\n",
      "Accuracy custom: 98.5%\n",
      "Avg Default Acc after 10 runs: 0.9792499999999998\n",
      "Avg Custom Acc after 10 runs: 0.975\n"
     ]
    },
    {
     "name": "stderr",
     "output_type": "stream",
     "text": [
      "\n"
     ]
    }
   ],
   "source": [
    "epochs = 50\n",
    "d_acc_hist = []\n",
    "c_acc_hist = []\n",
    "\n",
    "for i in range(10):\n",
    "    d_acc, c_acc = test_1(data, labels, noise, bs, epochs, lr, [sobel_x, sobel_y], title=\"Sobel\", return_acc=True, plot=False)\n",
    "    d_acc_hist.append(d_acc)\n",
    "    c_acc_hist.append(c_acc)\n",
    "\n",
    "print(f\"Avg Default Acc after 10 runs: {np.sum(d_acc_hist)/10}\")\n",
    "print(f\"Avg Custom Acc after 10 runs: {np.sum(c_acc_hist)/10}\")"
   ]
  },
  {
   "cell_type": "code",
   "execution_count": 10,
   "metadata": {},
   "outputs": [
    {
     "name": "stderr",
     "output_type": "stream",
     "text": [
      "Train model:   0%|          | 0/50 [00:00<?, ?it/s]"
     ]
    },
    {
     "name": "stderr",
     "output_type": "stream",
     "text": [
      "Train model: 100%|██████████| 50/50 [00:22<00:00,  2.21it/s]\n",
      "Train model: 100%|██████████| 50/50 [00:23<00:00,  2.14it/s]\n"
     ]
    },
    {
     "name": "stdout",
     "output_type": "stream",
     "text": [
      "Accuracy default: 98.5%\n",
      "Accuracy custom: 99.0%\n"
     ]
    },
    {
     "name": "stderr",
     "output_type": "stream",
     "text": [
      "Train model: 100%|██████████| 50/50 [00:19<00:00,  2.59it/s]\n",
      "Train model: 100%|██████████| 50/50 [00:21<00:00,  2.36it/s]\n"
     ]
    },
    {
     "name": "stdout",
     "output_type": "stream",
     "text": [
      "Accuracy default: 98.25%\n",
      "Accuracy custom: 97.75%\n"
     ]
    },
    {
     "name": "stderr",
     "output_type": "stream",
     "text": [
      "Train model: 100%|██████████| 50/50 [00:19<00:00,  2.58it/s]\n",
      "Train model: 100%|██████████| 50/50 [00:20<00:00,  2.45it/s]\n"
     ]
    },
    {
     "name": "stdout",
     "output_type": "stream",
     "text": [
      "Accuracy default: 98.0%\n",
      "Accuracy custom: 97.25%\n"
     ]
    },
    {
     "name": "stderr",
     "output_type": "stream",
     "text": [
      "Train model: 100%|██████████| 50/50 [00:19<00:00,  2.63it/s]\n",
      "Train model: 100%|██████████| 50/50 [00:20<00:00,  2.41it/s]\n"
     ]
    },
    {
     "name": "stdout",
     "output_type": "stream",
     "text": [
      "Accuracy default: 93.75%\n",
      "Accuracy custom: 97.0%\n"
     ]
    },
    {
     "name": "stderr",
     "output_type": "stream",
     "text": [
      "Train model: 100%|██████████| 50/50 [00:18<00:00,  2.66it/s]\n",
      "Train model: 100%|██████████| 50/50 [00:20<00:00,  2.43it/s]\n"
     ]
    },
    {
     "name": "stdout",
     "output_type": "stream",
     "text": [
      "Accuracy default: 97.0%\n",
      "Accuracy custom: 96.25%\n"
     ]
    },
    {
     "name": "stderr",
     "output_type": "stream",
     "text": [
      "Train model: 100%|██████████| 50/50 [00:18<00:00,  2.68it/s]\n",
      "Train model: 100%|██████████| 50/50 [00:20<00:00,  2.44it/s]\n"
     ]
    },
    {
     "name": "stdout",
     "output_type": "stream",
     "text": [
      "Accuracy default: 99.0%\n",
      "Accuracy custom: 97.75%\n"
     ]
    },
    {
     "name": "stderr",
     "output_type": "stream",
     "text": [
      "Train model: 100%|██████████| 50/50 [00:18<00:00,  2.66it/s]\n",
      "Train model: 100%|██████████| 50/50 [00:20<00:00,  2.40it/s]\n"
     ]
    },
    {
     "name": "stdout",
     "output_type": "stream",
     "text": [
      "Accuracy default: 97.25%\n",
      "Accuracy custom: 97.75%\n"
     ]
    },
    {
     "name": "stderr",
     "output_type": "stream",
     "text": [
      "Train model: 100%|██████████| 50/50 [00:18<00:00,  2.67it/s]\n",
      "Train model: 100%|██████████| 50/50 [00:20<00:00,  2.49it/s]\n"
     ]
    },
    {
     "name": "stdout",
     "output_type": "stream",
     "text": [
      "Accuracy default: 98.0%\n",
      "Accuracy custom: 98.25%\n"
     ]
    },
    {
     "name": "stderr",
     "output_type": "stream",
     "text": [
      "Train model: 100%|██████████| 50/50 [00:18<00:00,  2.66it/s]\n",
      "Train model: 100%|██████████| 50/50 [00:20<00:00,  2.45it/s]\n"
     ]
    },
    {
     "name": "stdout",
     "output_type": "stream",
     "text": [
      "Accuracy default: 99.5%\n",
      "Accuracy custom: 98.5%\n"
     ]
    },
    {
     "name": "stderr",
     "output_type": "stream",
     "text": [
      "Train model: 100%|██████████| 50/50 [00:19<00:00,  2.61it/s]\n",
      "Train model: 100%|██████████| 50/50 [00:19<00:00,  2.51it/s]"
     ]
    },
    {
     "name": "stdout",
     "output_type": "stream",
     "text": [
      "Accuracy default: 95.75%\n",
      "Accuracy custom: 96.75%\n",
      "Avg Default Acc after 10 runs: 0.9749999999999999\n",
      "Avg Custom Acc after 10 runs: 0.97625\n"
     ]
    },
    {
     "name": "stderr",
     "output_type": "stream",
     "text": [
      "\n"
     ]
    }
   ],
   "source": [
    "epochs = 50\n",
    "d_acc_hist = []\n",
    "c_acc_hist = []\n",
    "\n",
    "for i in range(10):\n",
    "    d_acc, c_acc = test_2(data, labels, noise, bs, epochs, lr, [sobel_x, sobel_y], title=\"Sobel\", return_acc=True, plot=False)\n",
    "    d_acc_hist.append(d_acc)\n",
    "    c_acc_hist.append(c_acc)\n",
    "\n",
    "print(f\"Avg Default Acc after 10 runs: {np.sum(d_acc_hist)/10}\")\n",
    "print(f\"Avg Custom Acc after 10 runs: {np.sum(c_acc_hist)/10}\")"
   ]
  },
  {
   "cell_type": "code",
   "execution_count": 5,
   "metadata": {},
   "outputs": [
    {
     "name": "stderr",
     "output_type": "stream",
     "text": [
      "Train model: 100%|██████████| 100/100 [00:36<00:00,  2.72it/s]\n",
      "Train model: 100%|██████████| 100/100 [00:37<00:00,  2.66it/s]\n"
     ]
    },
    {
     "data": {
      "image/png": "[encoded data removed]",
      "text/plain": [
       "<Figure size 800x500 with 1 Axes>"
      ]
     },
     "metadata": {},
     "output_type": "display_data"
    },
    {
     "name": "stdout",
     "output_type": "stream",
     "text": [
      "Accuracy default: 95.75%\n",
      "Accuracy custom: 96.25%\n"
     ]
    }
   ],
   "source": [
    "epochs = 100\n",
    "test_1(data, labels, noise, bs, epochs, lr, [sobel_x, sobel_y], title=\"Sobel\")"
   ]
  },
  {
   "cell_type": "markdown",
   "metadata": {},
   "source": [
    "### Pulsar, Non-Pulsar, BBRFI and NBRFI Dataset"
   ]
  },
  {
   "cell_type": "code",
   "execution_count": 11,
   "metadata": {},
   "outputs": [],
   "source": [
    "dataset = np.load(\"../data/32x32_ml_ppa_data_multi.npz\")\n",
    "labels = dataset[\"labels\"]\n",
    "data = dataset[\"data\"]\n",
    "noise = 40\n",
    "\n",
    "bs = 16\n",
    "lr = 0.001"
   ]
  },
  {
   "cell_type": "code",
   "execution_count": 12,
   "metadata": {},
   "outputs": [],
   "source": [
    "sobel_x = sobel_filter(\"x\")\n",
    "sobel_y = sobel_filter(\"y\")"
   ]
  },
  {
   "cell_type": "code",
   "execution_count": 13,
   "metadata": {},
   "outputs": [
    {
     "name": "stderr",
     "output_type": "stream",
     "text": [
      "Train model:   0%|          | 0/50 [00:00<?, ?it/s]"
     ]
    },
    {
     "name": "stderr",
     "output_type": "stream",
     "text": [
      "Train model: 100%|██████████| 50/50 [00:18<00:00,  2.67it/s]\n",
      "Train model: 100%|██████████| 50/50 [00:18<00:00,  2.76it/s]\n"
     ]
    },
    {
     "name": "stdout",
     "output_type": "stream",
     "text": [
      "Accuracy default: 97.75%\n",
      "Accuracy custom: 96.25%\n"
     ]
    },
    {
     "name": "stderr",
     "output_type": "stream",
     "text": [
      "Train model: 100%|██████████| 50/50 [00:18<00:00,  2.64it/s]\n",
      "Train model: 100%|██████████| 50/50 [00:20<00:00,  2.40it/s]\n"
     ]
    },
    {
     "name": "stdout",
     "output_type": "stream",
     "text": [
      "Accuracy default: 98.0%\n",
      "Accuracy custom: 94.25%\n"
     ]
    },
    {
     "name": "stderr",
     "output_type": "stream",
     "text": [
      "Train model: 100%|██████████| 50/50 [00:24<00:00,  2.00it/s]\n",
      "Train model: 100%|██████████| 50/50 [00:26<00:00,  1.90it/s]\n"
     ]
    },
    {
     "name": "stdout",
     "output_type": "stream",
     "text": [
      "Accuracy default: 98.25%\n",
      "Accuracy custom: 95.75%\n"
     ]
    },
    {
     "name": "stderr",
     "output_type": "stream",
     "text": [
      "Train model: 100%|██████████| 50/50 [00:25<00:00,  1.99it/s]\n",
      "Train model: 100%|██████████| 50/50 [00:25<00:00,  1.94it/s]\n"
     ]
    },
    {
     "name": "stdout",
     "output_type": "stream",
     "text": [
      "Accuracy default: 96.75%\n",
      "Accuracy custom: 96.75%\n"
     ]
    },
    {
     "name": "stderr",
     "output_type": "stream",
     "text": [
      "Train model: 100%|██████████| 50/50 [00:24<00:00,  2.05it/s]\n",
      "Train model: 100%|██████████| 50/50 [00:25<00:00,  1.93it/s]\n"
     ]
    },
    {
     "name": "stdout",
     "output_type": "stream",
     "text": [
      "Accuracy default: 98.0%\n",
      "Accuracy custom: 95.5%\n"
     ]
    },
    {
     "name": "stderr",
     "output_type": "stream",
     "text": [
      "Train model: 100%|██████████| 50/50 [00:24<00:00,  2.02it/s]\n",
      "Train model: 100%|██████████| 50/50 [00:25<00:00,  1.93it/s]\n"
     ]
    },
    {
     "name": "stdout",
     "output_type": "stream",
     "text": [
      "Accuracy default: 97.25%\n",
      "Accuracy custom: 97.25%\n"
     ]
    },
    {
     "name": "stderr",
     "output_type": "stream",
     "text": [
      "Train model: 100%|██████████| 50/50 [00:24<00:00,  2.00it/s]\n",
      "Train model: 100%|██████████| 50/50 [00:25<00:00,  1.95it/s]\n"
     ]
    },
    {
     "name": "stdout",
     "output_type": "stream",
     "text": [
      "Accuracy default: 97.25%\n",
      "Accuracy custom: 97.0%\n"
     ]
    },
    {
     "name": "stderr",
     "output_type": "stream",
     "text": [
      "Train model: 100%|██████████| 50/50 [00:24<00:00,  2.03it/s]\n",
      "Train model: 100%|██████████| 50/50 [00:25<00:00,  1.93it/s]\n"
     ]
    },
    {
     "name": "stdout",
     "output_type": "stream",
     "text": [
      "Accuracy default: 96.5%\n",
      "Accuracy custom: 95.25%\n"
     ]
    },
    {
     "name": "stderr",
     "output_type": "stream",
     "text": [
      "Train model: 100%|██████████| 50/50 [00:24<00:00,  2.02it/s]\n",
      "Train model: 100%|██████████| 50/50 [00:25<00:00,  1.94it/s]\n"
     ]
    },
    {
     "name": "stdout",
     "output_type": "stream",
     "text": [
      "Accuracy default: 98.75%\n",
      "Accuracy custom: 97.25%\n"
     ]
    },
    {
     "name": "stderr",
     "output_type": "stream",
     "text": [
      "Train model: 100%|██████████| 50/50 [00:25<00:00,  1.99it/s]\n",
      "Train model: 100%|██████████| 50/50 [00:25<00:00,  1.94it/s]"
     ]
    },
    {
     "name": "stdout",
     "output_type": "stream",
     "text": [
      "Accuracy default: 97.0%\n",
      "Accuracy custom: 94.5%\n",
      "Avg Default Acc after 10 runs: 0.9755\n",
      "Avg Custom Acc after 10 runs: 0.95975\n"
     ]
    },
    {
     "name": "stderr",
     "output_type": "stream",
     "text": [
      "\n"
     ]
    }
   ],
   "source": [
    "epochs = 50\n",
    "d_acc_hist = []\n",
    "c_acc_hist = []\n",
    "\n",
    "for i in range(10):\n",
    "    d_acc, c_acc = test_1(data, labels, noise, bs, epochs, lr, [sobel_y], title=\"Sobel\", return_acc=True, plot=False)\n",
    "    d_acc_hist.append(d_acc)\n",
    "    c_acc_hist.append(c_acc)\n",
    "\n",
    "print(f\"Avg Default Acc after 10 runs: {np.sum(d_acc_hist)/10}\")\n",
    "print(f\"Avg Custom Acc after 10 runs: {np.sum(c_acc_hist)/10}\")"
   ]
  },
  {
   "cell_type": "code",
   "execution_count": 14,
   "metadata": {},
   "outputs": [
    {
     "name": "stderr",
     "output_type": "stream",
     "text": [
      "Train model:   0%|          | 0/50 [00:00<?, ?it/s]"
     ]
    },
    {
     "name": "stderr",
     "output_type": "stream",
     "text": [
      "Train model: 100%|██████████| 50/50 [00:25<00:00,  2.00it/s]\n",
      "Train model: 100%|██████████| 50/50 [00:26<00:00,  1.88it/s]\n"
     ]
    },
    {
     "name": "stdout",
     "output_type": "stream",
     "text": [
      "Accuracy default: 97.5%\n",
      "Accuracy custom: 96.5%\n"
     ]
    },
    {
     "name": "stderr",
     "output_type": "stream",
     "text": [
      "Train model: 100%|██████████| 50/50 [00:24<00:00,  2.01it/s]\n",
      "Train model: 100%|██████████| 50/50 [00:26<00:00,  1.88it/s]\n"
     ]
    },
    {
     "name": "stdout",
     "output_type": "stream",
     "text": [
      "Accuracy default: 96.5%\n",
      "Accuracy custom: 97.5%\n"
     ]
    },
    {
     "name": "stderr",
     "output_type": "stream",
     "text": [
      "Train model: 100%|██████████| 50/50 [00:25<00:00,  2.00it/s]\n",
      "Train model: 100%|██████████| 50/50 [00:27<00:00,  1.84it/s]\n"
     ]
    },
    {
     "name": "stdout",
     "output_type": "stream",
     "text": [
      "Accuracy default: 97.75%\n",
      "Accuracy custom: 96.0%\n"
     ]
    },
    {
     "name": "stderr",
     "output_type": "stream",
     "text": [
      "Train model: 100%|██████████| 50/50 [00:25<00:00,  1.99it/s]\n",
      "Train model: 100%|██████████| 50/50 [00:27<00:00,  1.83it/s]\n"
     ]
    },
    {
     "name": "stdout",
     "output_type": "stream",
     "text": [
      "Accuracy default: 98.0%\n",
      "Accuracy custom: 97.75%\n"
     ]
    },
    {
     "name": "stderr",
     "output_type": "stream",
     "text": [
      "Train model: 100%|██████████| 50/50 [00:24<00:00,  2.00it/s]\n",
      "Train model: 100%|██████████| 50/50 [00:27<00:00,  1.83it/s]\n"
     ]
    },
    {
     "name": "stdout",
     "output_type": "stream",
     "text": [
      "Accuracy default: 98.25%\n",
      "Accuracy custom: 96.75%\n"
     ]
    },
    {
     "name": "stderr",
     "output_type": "stream",
     "text": [
      "Train model: 100%|██████████| 50/50 [00:25<00:00,  1.96it/s]\n",
      "Train model: 100%|██████████| 50/50 [00:27<00:00,  1.82it/s]\n"
     ]
    },
    {
     "name": "stdout",
     "output_type": "stream",
     "text": [
      "Accuracy default: 98.0%\n",
      "Accuracy custom: 96.0%\n"
     ]
    },
    {
     "name": "stderr",
     "output_type": "stream",
     "text": [
      "Train model: 100%|██████████| 50/50 [00:25<00:00,  1.96it/s]\n",
      "Train model: 100%|██████████| 50/50 [00:27<00:00,  1.84it/s]\n"
     ]
    },
    {
     "name": "stdout",
     "output_type": "stream",
     "text": [
      "Accuracy default: 98.75%\n",
      "Accuracy custom: 96.25%\n"
     ]
    },
    {
     "name": "stderr",
     "output_type": "stream",
     "text": [
      "Train model: 100%|██████████| 50/50 [00:25<00:00,  1.97it/s]\n",
      "Train model: 100%|██████████| 50/50 [00:27<00:00,  1.81it/s]\n"
     ]
    },
    {
     "name": "stdout",
     "output_type": "stream",
     "text": [
      "Accuracy default: 96.5%\n",
      "Accuracy custom: 97.0%\n"
     ]
    },
    {
     "name": "stderr",
     "output_type": "stream",
     "text": [
      "Train model: 100%|██████████| 50/50 [00:25<00:00,  1.96it/s]\n",
      "Train model: 100%|██████████| 50/50 [00:27<00:00,  1.81it/s]\n"
     ]
    },
    {
     "name": "stdout",
     "output_type": "stream",
     "text": [
      "Accuracy default: 98.25%\n",
      "Accuracy custom: 97.25%\n"
     ]
    },
    {
     "name": "stderr",
     "output_type": "stream",
     "text": [
      "Train model: 100%|██████████| 50/50 [00:21<00:00,  2.33it/s]\n",
      "Train model: 100%|██████████| 50/50 [00:20<00:00,  2.39it/s]"
     ]
    },
    {
     "name": "stdout",
     "output_type": "stream",
     "text": [
      "Accuracy default: 98.25%\n",
      "Accuracy custom: 96.75%\n",
      "Avg Default Acc after 10 runs: 0.97775\n",
      "Avg Custom Acc after 10 runs: 0.96775\n"
     ]
    },
    {
     "name": "stderr",
     "output_type": "stream",
     "text": [
      "\n"
     ]
    }
   ],
   "source": [
    "epochs = 50\n",
    "d_acc_hist = []\n",
    "c_acc_hist = []\n",
    "\n",
    "for i in range(10):\n",
    "    d_acc, c_acc = test_2(data, labels, noise, bs, epochs, lr, [sobel_y], title=\"Sobel\", return_acc=True, plot=False)\n",
    "    d_acc_hist.append(d_acc)\n",
    "    c_acc_hist.append(c_acc)\n",
    "\n",
    "print(f\"Avg Default Acc after 10 runs: {np.sum(d_acc_hist)/10}\")\n",
    "print(f\"Avg Custom Acc after 10 runs: {np.sum(c_acc_hist)/10}\")"
   ]
  }
 ],
 "metadata": {
  "kernelspec": {
   "display_name": "Python 3",
   "language": "python",
   "name": "python3"
  },
  "language_info": {
   "codemirror_mode": {
    "name": "ipython",
    "version": 3
   },
   "file_extension": ".py",
   "mimetype": "text/x-python",
   "name": "python",
   "nbconvert_exporter": "python",
   "pygments_lexer": "ipython3",
   "version": "3.12.0"
  }
 },
 "nbformat": 4,
 "nbformat_minor": 2
}
