{
 "cells": [
  {
   "cell_type": "markdown",
   "metadata": {},
   "source": [
    "# Hyperparamter Tuner for CNNs\n",
    "This file is part of the bachelor thesis of Jad Dayoub, 7425569.\n",
    "\n",
    "By setting values for different hyperparameters, a grid-search is done to find the optimal combination."
   ]
  },
  {
   "cell_type": "code",
   "execution_count": null,
   "metadata": {},
   "outputs": [],
   "source": [
    "import itertools\n",
    "import numpy as np\n",
    "import time\n",
    "import torch.nn as nn\n",
    "import torch.optim as optim\n",
    "\n",
    "from models import TuneNet\n",
    "from utils import fit, decorate_text\n",
    "from synthetic_data_generation import generate_train_test_valid_data"
   ]
  },
  {
   "cell_type": "code",
   "execution_count": 1,
   "metadata": {},
   "outputs": [],
   "source": [
    "def get_all_configurations(config):\n",
    "    \"\"\"\n",
    "    Creates all possible combinations.\n",
    "    \"\"\"\n",
    "\n",
    "    keys = config.keys()\n",
    "    values = config.values()\n",
    "\n",
    "    combinations = list(itertools.product(*values))\n",
    "\n",
    "    configurations = [dict(zip(keys, combo)) for combo in combinations]\n",
    "\n",
    "    return configurations\n",
    "\n",
    "\n",
    "def parameter_tuning(data, labels, config, epochs=10, learn_plot=False):\n",
    "    \"\"\" \n",
    "    Finds the optimal combination by testing all possible combinations.\n",
    "    \"\"\"\n",
    "\n",
    "    dim = len(data[0][0])\n",
    "\n",
    "    configurations = get_all_configurations(config)\n",
    "\n",
    "    best_config = None \n",
    "    best_test_acc = 0\n",
    "\n",
    "    count = 1\n",
    "    total = len(configurations)\n",
    "    start_time = time.time()\n",
    "    for configuration in configurations:\n",
    "        c1 = configuration[\"c1\"]\n",
    "        c2 = configuration[\"c2\"]\n",
    "        c3 = configuration.get(\"c3\", None)\n",
    "        fc = configuration[\"fc\"]\n",
    "        f_size = configuration[\"f_size\"]\n",
    "        lr = configuration[\"lr\"]\n",
    "        bs = configuration[\"bs\"]\n",
    "\n",
    "        train_data, test_data = generate_train_test_valid_data(data, labels, False, bs, 0.2)\n",
    "\n",
    "        decorate_text(f\"{count}/{total} | c1: {c1}, c2: {c2}\"+(f\", c3: {c3}\" if c3 is not None else \"\")+f\", fc: {fc}, f_size: {f_size}, lr: {lr}, bs: {bs}\") \n",
    "        model = TuneNet(dim, c1, c2, c3, fc, f_size)\n",
    "        optimizer = optim.Adam(model.parameters(), lr=lr)\n",
    "        loss_fun = nn.CrossEntropyLoss()\n",
    "        _, _, _, test_acc, _ = fit(model, epochs, optimizer, loss_fun, train_data, test_data, learn_plot=False)\n",
    "\n",
    "        if test_acc[-1] > best_test_acc:\n",
    "            best_test_acc = test_acc[-1]\n",
    "            best_config = configuration\n",
    "        \n",
    "        count += 1\n",
    "    \n",
    "    end_time = time.time()\n",
    "    duration = end_time - start_time\n",
    "    duration_str = time.strftime(\"%H:%M:%S\", time.gmtime(duration))\n",
    "    \n",
    "    print(f\"\\nBest configuration with Test Accuracy of {best_test_acc}: (Runtime: {duration_str})\")\n",
    "    for key, value in best_config.items():\n",
    "        print(f\"{key}: {value}\")"
   ]
  },
  {
   "cell_type": "code",
   "execution_count": null,
   "metadata": {},
   "outputs": [],
   "source": [
    "config = {\n",
    "    \"c1\": [16, 32],\n",
    "    \"c2\": [32, 64],\n",
    "    \"c3\": [None, 64],\n",
    "    \"fc\": [128, 256],\n",
    "    \"f_size\": [3],\n",
    "    \"lr\": [0.001, 0.0001],\n",
    "    \"bs\": [8, 16, 32]\n",
    "}\n",
    "\n",
    "dataset = np.load(\"../data/256x256_ml_ppa_data_binary.npz\")\n",
    "labels = dataset[\"labels\"]\n",
    "\n",
    "i = 0\n",
    "print()\n",
    "print(f\"testing on {dataset.files[i]}\")\n",
    "print()\n",
    "for j in range(3):\n",
    "    data = dataset[dataset.files[i]]\n",
    "    parameter_tuning(data, labels, config, learn_plot=False)"
   ]
  }
 ],
 "metadata": {
  "kernelspec": {
   "display_name": "Python 3",
   "language": "python",
   "name": "python3"
  },
  "language_info": {
   "codemirror_mode": {
    "name": "ipython",
    "version": 3
   },
   "file_extension": ".py",
   "mimetype": "text/x-python",
   "name": "python",
   "nbconvert_exporter": "python",
   "pygments_lexer": "ipython3",
   "version": "3.12.0"
  }
 },
 "nbformat": 4,
 "nbformat_minor": 2
}
